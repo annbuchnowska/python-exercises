{
 "cells": [
  {
   "cell_type": "markdown",
   "metadata": {},
   "source": [
    "# Python \n",
    "Set of exercises\n",
    "\n",
    "## tasks\n",
    "\n",
    "1. Write a Python function to sum all the numbers in a list.\n",
    "2. Write a Python function to reverse a string.\n",
    "3. Write a Python function to check whether a number is in a given range - (5, 15)\n",
    "4. Write a Python function that accepts a string and calculate the number of upper case letters and lower case letters.\n",
    "5. Write a Python function that takes a list and returns a new list with unique elements of the first list. Do not use SET.\n",
    "  * Sample List : [1,2,3,3,3,3,4,5]\n",
    "    \"    Unique List : [1, 2, 3, 4, 5]\n",
    "6. Write a Python program to print the even numbers from a given list.\n",
    "  * Sample List : [1, 2, 3, 4, 5, 6, 7, 8, 9] \n",
    "    \"    Expected Result : [2, 4, 6, 8]\n",
    "7. Write a Python function that checks whether a passed string is palindrome or not.\n",
    "8. Write a Python function to check whether a string is pangram or not.\n",
    "9. Write a Python function to create and print a list where the values are square of numbers between 1 and 30 (both included).\n",
    "10. Write a Python program to make a chain of function decorators (bold, italic, underline etc.) in Python.\n",
    "11. Write a Python program to execute a string containing Python code.\n",
    "12. Define a function max() that takes two numbers as arguments and returns the largest of them. Use the if-then-else construct available in Python. (It is true that Python has the max() function built in, but writing it yourself is nevertheless a good exercise.)\\\n",
    "13. Define a function max_of_three() that takes three numbers as arguments and returns the largest of them.\n",
    "14. Define a function that computes the length of a given list or string. (It is true that Python has the len() function built in, but writing it yourself is nevertheless a good exercise.)\n",
    "15. Write a function that takes a character (i.e. a string of length 1) and returns True if it is a vowel, False otherwise.,\n",
    "16. Define a function sum() and a function multiply() that sums and multiplies (respectively) all the numbers in a list of numbers. For example, sum([1, 2, 3, 4]) should return 10, and multiply([1, 2, 3, 4]) should return 24.\n",
    "17. Define a function is_palindrome() that recognizes palindromes (i.e. words that look the same written backwards). For example, is_palindrome(\\\"radar\\\") should return True.\n",
    "18. Write a function is_member() that takes a value (i.e. a number, string, etc) x and a list of values a, and returns True if x is a member of a, False otherwise. (Note that this is exactly what the in operator does, but for the sake of the exercise you should pretend Python did not have this operator.)\n",
    "19. Define a function overlapping() that takes two lists and returns True if they have at least one member in common, False otherwise. You may use your is_member() function, or the in operator, but for the sake of the exercise, you should (also) write it using two nested for-loops.\n",
    "20. Define a procedure histogram() that takes a list of integers and prints a histogram to the screen. For example, histogram([4, 9, 7]) should print the following:,\n",
    "   * \"****\",\n",
    "   * \"*********\",\n",
    "   * \"*******\",\n",
    "21. Write a program that maps a list of words into a list of integers representing the lengths of the correponding words.\n",
    "22. Write a function find_longest_word() that takes a list of words and returns the length of the longest one.\\n\",\n",
    "   * Example input: [\\\"Audi\\\", \\\"BMW\\\", \\\"Jaguar\\\", \\\"Aston Martin\\\"]\\\n",
    "     Expected output: \\\"Aston Martin\\\"\n",
    "23. Write a function filter_long_words() that takes a list of words and an integer n and returns the list of words that are longer than n.\n",
    "24. A pangram is a sentence that contains all the letters of the English alphabet at least once, for example: The quick brown fox jumps over the lazy dog. Your task here is to write a function to check a sentence to see if it is a pangram or not.  "
   ]
  },
  {
   "cell_type": "markdown",
   "metadata": {},
   "source": [
    "### 1. Write a Python function to sum all the numbers in a list."
   ]
  },
  {
   "cell_type": "code",
   "execution_count": 1,
   "metadata": {
    "collapsed": false
   },
   "outputs": [
    {
     "name": "stdout",
     "output_type": "stream",
     "text": [
      "20\n"
     ]
    }
   ],
   "source": [
    "list = [2, 3, 4, 5, 6]\n",
    "def listsum(arq):\n",
    "    sum = 0\n",
    "    for i in arq:\n",
    "        sum += i\n",
    "    return sum\n",
    "\n",
    "print(listsum(list))"
   ]
  },
  {
   "cell_type": "markdown",
   "metadata": {},
   "source": [
    "### 2. Write a Python function to reverse a string."
   ]
  },
  {
   "cell_type": "code",
   "execution_count": 3,
   "metadata": {
    "collapsed": false
   },
   "outputs": [
    {
     "name": "stdout",
     "output_type": "stream",
     "text": [
      "dlrow olleh\n"
     ]
    }
   ],
   "source": [
    "str = \"hello world\"\n",
    "def reversedString(arq):\n",
    "    return arq[::-1]\n",
    "\n",
    "print(reversedString(str))"
   ]
  },
  {
   "cell_type": "markdown",
   "metadata": {},
   "source": [
    "### 3. Write a Python function to check whether a number is in a given range - (5, 15)"
   ]
  },
  {
   "cell_type": "code",
   "execution_count": 4,
   "metadata": {
    "collapsed": false
   },
   "outputs": [
    {
     "name": "stdout",
     "output_type": "stream",
     "text": [
      "Enter a number between 5 and 15: 10\n",
      "The number is in the range\n"
     ]
    }
   ],
   "source": [
    "def check(n):  \n",
    "    if n in range(5, 15):  \n",
    "        print(\"The number is in the range\")  \n",
    "    else:\n",
    "        print(\"The number is NOT in the range.\")  \n",
    "        \n",
    "check(n = int(input(\"Enter a number between 5 and 15: \")))"
   ]
  },
  {
   "cell_type": "markdown",
   "metadata": {},
   "source": [
    "### 4. Write a Python function that accepts a string and calculate the number of upper case letters and lower case letters."
   ]
  },
  {
   "cell_type": "code",
   "execution_count": 8,
   "metadata": {
    "collapsed": false
   },
   "outputs": [
    {
     "name": "stdout",
     "output_type": "stream",
     "text": [
      "Enter a sentence: Hello World!\n",
      "No. of Upper case characters : 2\n",
      "No. of Lower case characters : 8\n"
     ]
    }
   ],
   "source": [
    "import re\n",
    "def StringTest(string):\n",
    "    print('No. of Upper case characters :', len(re.findall(r'[A-Z]', string)))\n",
    "    print('No. of Lower case characters :', len(re.findall(r'[a-z]', string)))\n",
    "    \n",
    "StringTest(input(\"Enter a sentence: \"))"
   ]
  },
  {
   "cell_type": "markdown",
   "metadata": {},
   "source": [
    "### 5. Write a Python function that takes a list and returns a new list with unique elements of the first list. Do not use SET."
   ]
  },
  {
   "cell_type": "code",
   "execution_count": 9,
   "metadata": {
    "collapsed": false
   },
   "outputs": [
    {
     "name": "stdout",
     "output_type": "stream",
     "text": [
      "[1, 2, 3, 4, 5]\n"
     ]
    }
   ],
   "source": [
    "def uniqueEl(list):  \n",
    "    newList = []  \n",
    "    for i in list:  \n",
    "        if i not in newList:  \n",
    "            newList.append(i)  \n",
    "    print(newList)\n",
    "    \n",
    "list = [1,2,3,3,3,3,4,5]\n",
    "uniqueEl(list)"
   ]
  },
  {
   "cell_type": "markdown",
   "metadata": {},
   "source": [
    "### 6. Write a Python program to print the even numbers from a given list."
   ]
  },
  {
   "cell_type": "code",
   "execution_count": 10,
   "metadata": {
    "collapsed": false
   },
   "outputs": [
    {
     "name": "stdout",
     "output_type": "stream",
     "text": [
      "[2, 4, 6, 8]\n"
     ]
    }
   ],
   "source": [
    "def evenNum(list):\n",
    "    newList = []\n",
    "    for i in list:\n",
    "        if i%2 == 0:\n",
    "            newList.append(i)\n",
    "    print(newList)\n",
    "    \n",
    "evenNum(list = [1, 2, 3, 4, 5, 6, 7, 8, 9])"
   ]
  },
  {
   "cell_type": "markdown",
   "metadata": {},
   "source": [
    "### 7. Write a Python function that checks whether a passed string is palindrome or not."
   ]
  },
  {
   "cell_type": "code",
   "execution_count": 13,
   "metadata": {
    "collapsed": false
   },
   "outputs": [
    {
     "name": "stdout",
     "output_type": "stream",
     "text": [
      "Yes\n"
     ]
    }
   ],
   "source": [
    "def isPal(word):\n",
    "    print('True') if word == word[::-1] else print('False')    \n",
    "    \n",
    "isPal('eye')"
   ]
  },
  {
   "cell_type": "markdown",
   "metadata": {},
   "source": [
    "### 8. Write a Python function to check whether a string is pangram or not"
   ]
  },
  {
   "cell_type": "code",
   "execution_count": 1,
   "metadata": {
    "collapsed": false
   },
   "outputs": [
    {
     "data": {
      "text/plain": [
       "True"
      ]
     },
     "execution_count": 1,
     "metadata": {},
     "output_type": "execute_result"
    }
   ],
   "source": [
    "def isPangram(sentence):\n",
    "    sentence = set(sentence.lower())\n",
    "    alphabet = set('abcdefghijklmnoprstuwvqxyz')\n",
    "    return sentence.issuperset(alphabet)\n",
    "\n",
    "isPangram('Mr. Jock, TV quiz PhD, bags few lynx')"
   ]
  },
  {
   "cell_type": "markdown",
   "metadata": {},
   "source": [
    "### 9. Write a Python function to create and print a list where the values are square of numbers between 1 and 30 (both included)."
   ]
  },
  {
   "cell_type": "code",
   "execution_count": 3,
   "metadata": {
    "collapsed": false
   },
   "outputs": [
    {
     "name": "stdout",
     "output_type": "stream",
     "text": [
      "[1, 4, 9, 16, 25, 36, 49, 64, 81, 100, 121, 144, 169, 196, 225, 256, 289, 324, 361, 400, 441, 484, 529, 576, 625, 676, 729, 784, 841, 900]\n"
     ]
    }
   ],
   "source": [
    "def sqrList():\n",
    "    list = []\n",
    "    for x in range(1,31):\n",
    "        list.append(x**2)\n",
    "    print(list)\n",
    "\n",
    "sqrList()"
   ]
  },
  {
   "cell_type": "code",
   "execution_count": 9,
   "metadata": {
    "collapsed": false
   },
   "outputs": [
    {
     "name": "stdout",
     "output_type": "stream",
     "text": [
      "[1, 4, 9, 16, 25, 36, 49, 64, 81, 100, 121, 144, 169, 196, 225, 256, 289, 324, 361, 400, 441, 484, 529, 576, 625, 676, 729, 784, 841, 900]\n"
     ]
    }
   ],
   "source": [
    "def sqrList():\n",
    "    print([(x+1)**2 for x in range(30)])\n",
    "\n",
    "sqrList()"
   ]
  },
  {
   "cell_type": "code",
   "execution_count": 6,
   "metadata": {
    "collapsed": false
   },
   "outputs": [
    {
     "data": {
      "text/plain": [
       "[1,\n",
       " 4,\n",
       " 9,\n",
       " 16,\n",
       " 25,\n",
       " 36,\n",
       " 49,\n",
       " 64,\n",
       " 81,\n",
       " 100,\n",
       " 121,\n",
       " 144,\n",
       " 169,\n",
       " 196,\n",
       " 225,\n",
       " 256,\n",
       " 289,\n",
       " 324,\n",
       " 361,\n",
       " 400,\n",
       " 441,\n",
       " 484,\n",
       " 529,\n",
       " 576,\n",
       " 625,\n",
       " 676,\n",
       " 729,\n",
       " 784,\n",
       " 841,\n",
       " 900]"
      ]
     },
     "execution_count": 6,
     "metadata": {},
     "output_type": "execute_result"
    }
   ],
   "source": [
    "def sqrList():\n",
    "    return list(map(lambda x:(x+1)**2, range(30)))\n",
    "\n",
    "sqrList()"
   ]
  },
  {
   "cell_type": "markdown",
   "metadata": {},
   "source": [
    "### 10. Write a Python program to make a chain of function decorators (bold, italic, underline etc.) in Python."
   ]
  },
  {
   "cell_type": "markdown",
   "metadata": {
    "collapsed": true
   },
   "source": [
    "### 11. Write a Python program to execute a string containing Python code.\n",
    "    "
   ]
  },
  {
   "cell_type": "code",
   "execution_count": 1,
   "metadata": {
    "collapsed": false
   },
   "outputs": [
    {
     "name": "stdout",
     "output_type": "stream",
     "text": [
      "Enter a code: print(\"hello world\")\n",
      "hello world\n"
     ]
    }
   ],
   "source": [
    "def execute(s):\n",
    "    return exec(s)\n",
    "\n",
    "execute(s = input(\"Enter a code: \"))"
   ]
  },
  {
   "cell_type": "markdown",
   "metadata": {},
   "source": [
    "### 12. Define a function max() that takes two numbers as arguments and returns the largest of them. Use the if-then-else construct available in Python. (It is true that Python has the max() function built in, but writing it yourself is nevertheless a good exercise.)\\"
   ]
  },
  {
   "cell_type": "code",
   "execution_count": 4,
   "metadata": {
    "collapsed": false
   },
   "outputs": [
    {
     "name": "stdout",
     "output_type": "stream",
     "text": [
      "1st argument: 5\n",
      "2nd argument: 6\n",
      "6 is max\n"
     ]
    }
   ],
   "source": [
    "def MaxVal(a, b):\n",
    "    if a > b: \n",
    "        print(\"{} is bigger than {}\".format(a, b))\n",
    "    elif a < b:\n",
    "        print(\"{} is max\".format(b))\n",
    "    else:\n",
    "        print(\"{} and {} are equal\".format(a, b))\n",
    "        \n",
    "MaxVal(input(\"1st argument: \"), input(\"2nd argument: \"))"
   ]
  },
  {
   "cell_type": "markdown",
   "metadata": {},
   "source": [
    "### 13. Define a function max_of_three() that takes three numbers as arguments and returns the largest of them."
   ]
  },
  {
   "cell_type": "code",
   "execution_count": 5,
   "metadata": {
    "collapsed": false
   },
   "outputs": [
    {
     "name": "stdout",
     "output_type": "stream",
     "text": [
      "1st argument: 6\n",
      "2nd argument: 2\n",
      "3rd argument: 3\n",
      "Max is: 6\n"
     ]
    }
   ],
   "source": [
    "def max_of_three(a, b, c):\n",
    "    list = [a, b, c]\n",
    "    sort_list = sorted(list)\n",
    "    print(\"Max is: {}\".format(sort_list[-1]))\n",
    " \n",
    "max_of_three(input(\"1st argument: \"), input(\"2nd argument: \"), input(\"3rd argument: \"))"
   ]
  },
  {
   "cell_type": "markdown",
   "metadata": {},
   "source": [
    "### 14. Define a function that computes the length of a given list or string. (It is true that Python has the len() function built in, but writing it yourself is nevertheless a good exercise.)"
   ]
  },
  {
   "cell_type": "code",
   "execution_count": 6,
   "metadata": {
    "collapsed": false
   },
   "outputs": [
    {
     "data": {
      "text/plain": [
       "5"
      ]
     },
     "execution_count": 6,
     "metadata": {},
     "output_type": "execute_result"
    }
   ],
   "source": [
    "def len_of_input(input):\n",
    "    if type(input) is list:\n",
    "        makeString = ''.join(str(e) for e in input)\n",
    "    return sum(map(lambda x:1, input))\n",
    "\n",
    "input = [1, 2, 3, 5, 7]\n",
    "len_of_input(input)"
   ]
  },
  {
   "cell_type": "code",
   "execution_count": null,
   "metadata": {
    "collapsed": true
   },
   "outputs": [],
   "source": []
  }
 ],
 "metadata": {
  "anaconda-cloud": {},
  "kernelspec": {
   "display_name": "Python [conda root]",
   "language": "python",
   "name": "conda-root-py"
  },
  "language_info": {
   "codemirror_mode": {
    "name": "ipython",
    "version": 3
   },
   "file_extension": ".py",
   "mimetype": "text/x-python",
   "name": "python",
   "nbconvert_exporter": "python",
   "pygments_lexer": "ipython3",
   "version": "3.5.2"
  }
 },
 "nbformat": 4,
 "nbformat_minor": 1
}
