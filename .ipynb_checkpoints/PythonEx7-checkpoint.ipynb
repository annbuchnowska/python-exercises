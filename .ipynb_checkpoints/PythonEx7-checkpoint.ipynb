{
 "cells": [
  {
   "cell_type": "code",
   "execution_count": 1,
   "metadata": {
    "ExecuteTime": {
     "end_time": "2016-12-08T20:09:47.485443",
     "start_time": "2016-12-08T20:09:47.273294"
    },
    "collapsed": true
   },
   "outputs": [],
   "source": [
    "import requests"
   ]
  },
  {
   "cell_type": "markdown",
   "metadata": {},
   "source": [
    "## Getting response from website"
   ]
  },
  {
   "cell_type": "code",
   "execution_count": null,
   "metadata": {
    "ExecuteTime": {
     "end_time": "2016-12-08T22:11:57.645059",
     "start_time": "2016-12-08T22:11:57.486196"
    },
    "collapsed": false
   },
   "outputs": [],
   "source": [
    "response = requests.get('https://en.wikipedia.org/robots.txt')"
   ]
  },
  {
   "cell_type": "code",
   "execution_count": null,
   "metadata": {
    "ExecuteTime": {
     "end_time": "2016-12-08T22:12:00.155560",
     "start_time": "2016-12-08T22:12:00.150558"
    },
    "collapsed": true
   },
   "outputs": [],
   "source": [
    "text = response.text\n",
    "print(text)\n",
    "#jezeli chcemy zmienic kodowanie ..."
   ]
  },
  {
   "cell_type": "code",
   "execution_count": null,
   "metadata": {
    "ExecuteTime": {
     "end_time": "2016-12-08T22:30:10.083673",
     "start_time": "2016-12-08T22:30:10.079655"
    },
    "collapsed": false
   },
   "outputs": [],
   "source": [
    "response.headers"
   ]
  },
  {
   "cell_type": "code",
   "execution_count": null,
   "metadata": {
    "collapsed": false
   },
   "outputs": [],
   "source": [
    "response.request.headers"
   ]
  },
  {
   "cell_type": "markdown",
   "metadata": {
    "ExecuteTime": {
     "end_time": "2016-12-09T18:45:16.204022",
     "start_time": "2016-12-09T18:45:16.200032"
    }
   },
   "source": [
    "## Status Codes"
   ]
  },
  {
   "cell_type": "code",
   "execution_count": null,
   "metadata": {
    "ExecuteTime": {
     "end_time": "2016-12-08T21:00:26.375114",
     "start_time": "2016-12-08T21:00:26.370110"
    },
    "collapsed": false
   },
   "outputs": [],
   "source": [
    "status = response.status_code\n",
    "status"
   ]
  },
  {
   "cell_type": "code",
   "execution_count": null,
   "metadata": {
    "ExecuteTime": {
     "end_time": "2016-12-08T21:09:23.631818",
     "start_time": "2016-12-08T21:09:23.626814"
    },
    "collapsed": false
   },
   "outputs": [],
   "source": [
    "status == requests.codes.ALL_OK"
   ]
  },
  {
   "cell_type": "markdown",
   "metadata": {},
   "source": [
    "If we made a bad request (a 4XX client error or 5XX server error response), we can raise it with Response.raise_for_status():"
   ]
  },
  {
   "cell_type": "code",
   "execution_count": null,
   "metadata": {
    "ExecuteTime": {
     "end_time": "2016-12-09T18:46:03.728541",
     "start_time": "2016-12-09T18:46:03.472766"
    },
    "collapsed": false
   },
   "outputs": [],
   "source": [
    "bad_r = requests.get('http://httpbin.org/status/404')\n",
    "bad_r.status_code"
   ]
  },
  {
   "cell_type": "code",
   "execution_count": null,
   "metadata": {
    "ExecuteTime": {
     "end_time": "2016-12-09T18:46:08.904406",
     "start_time": "2016-12-09T18:46:08.895385"
    },
    "collapsed": false
   },
   "outputs": [],
   "source": [
    "bad_r.raise_for_status()"
   ]
  },
  {
   "cell_type": "code",
   "execution_count": null,
   "metadata": {
    "ExecuteTime": {
     "end_time": "2016-12-09T18:46:19.994625",
     "start_time": "2016-12-09T18:46:19.990623"
    },
    "collapsed": true
   },
   "outputs": [],
   "source": [
    "response.raise_for_status()"
   ]
  },
  {
   "cell_type": "markdown",
   "metadata": {
    "ExecuteTime": {
     "end_time": "2016-12-09T18:48:02.146636",
     "start_time": "2016-12-09T18:48:02.144624"
    }
   },
   "source": [
    "## Timeouts"
   ]
  },
  {
   "cell_type": "markdown",
   "metadata": {},
   "source": [
    "You can tell Requests to stop waiting for a response after a given number of seconds with the timeout parameter.  \n",
    "Nearly all production code should use this parameter in nearly all requests. Failure to do so can cause your program to hang indefinitely.  \n",
    "\n",
    "---\n",
    "**Note**  \n",
    "timeout is not a time limit on the entire response download; rather, an exception is raised if the server has not issued a response for timeout seconds (more precisely, if no bytes have been received on the underlying socket for timeout seconds). If no timeout is specified explicitly, requests do not time out.\n",
    "\n",
    "http://docs.python-requests.org/en/master/user/quickstart/#timeouts"
   ]
  },
  {
   "cell_type": "code",
   "execution_count": null,
   "metadata": {
    "ExecuteTime": {
     "end_time": "2016-12-09T18:48:26.596295",
     "start_time": "2016-12-09T18:48:26.552278"
    },
    "collapsed": true
   },
   "outputs": [],
   "source": [
    "requests.get('http://github.com', timeout=0.001)"
   ]
  },
  {
   "cell_type": "markdown",
   "metadata": {},
   "source": [
    "## Headers \n",
    "Custom headers, i.e. for authentication (providing token)"
   ]
  },
  {
   "cell_type": "code",
   "execution_count": null,
   "metadata": {
    "ExecuteTime": {
     "end_time": "2016-12-09T18:53:27.172457",
     "start_time": "2016-12-09T18:53:27.169454"
    },
    "collapsed": true
   },
   "outputs": [],
   "source": [
    "header = {'Authorization': 'Token 1234567890'}"
   ]
  },
  {
   "cell_type": "code",
   "execution_count": null,
   "metadata": {
    "ExecuteTime": {
     "end_time": "2016-12-09T18:53:28.467784",
     "start_time": "2016-12-09T18:53:27.616850"
    },
    "collapsed": false
   },
   "outputs": [],
   "source": [
    "response = requests.get('http://github.com', headers=header)"
   ]
  },
  {
   "cell_type": "code",
   "execution_count": null,
   "metadata": {
    "ExecuteTime": {
     "end_time": "2016-12-09T18:53:29.068192",
     "start_time": "2016-12-09T18:53:29.064189"
    },
    "collapsed": false
   },
   "outputs": [],
   "source": [
    "response.request.headers"
   ]
  },
  {
   "cell_type": "markdown",
   "metadata": {
    "ExecuteTime": {
     "end_time": "2016-12-08T21:30:54.239840",
     "start_time": "2016-12-08T21:30:54.235822"
    }
   },
   "source": [
    "## JSON"
   ]
  },
  {
   "cell_type": "code",
   "execution_count": null,
   "metadata": {
    "ExecuteTime": {
     "end_time": "2016-12-09T23:57:39.568911",
     "start_time": "2016-12-09T23:57:39.565908"
    },
    "collapsed": true
   },
   "outputs": [],
   "source": [
    "base_url = 'http://maps.googleapis.com/maps/api/geocode/json'"
   ]
  },
  {
   "cell_type": "code",
   "execution_count": null,
   "metadata": {
    "ExecuteTime": {
     "end_time": "2016-12-09T23:57:39.779257",
     "start_time": "2016-12-09T23:57:39.776270"
    },
    "collapsed": true
   },
   "outputs": [],
   "source": [
    "my_params = {'address': '100 Broadway, New York, NY, U.S.A', \n",
    "             'language': 'en'}"
   ]
  },
  {
   "cell_type": "code",
   "execution_count": null,
   "metadata": {
    "ExecuteTime": {
     "end_time": "2016-12-09T23:57:40.896963",
     "start_time": "2016-12-09T23:57:40.055964"
    },
    "collapsed": false
   },
   "outputs": [],
   "source": [
    "response = requests.get(base_url, params = my_params)\n",
    "response.status_code"
   ]
  },
  {
   "cell_type": "code",
   "execution_count": null,
   "metadata": {
    "ExecuteTime": {
     "end_time": "2016-12-09T23:57:42.178651",
     "start_time": "2016-12-09T23:57:42.174648"
    },
    "collapsed": false
   },
   "outputs": [],
   "source": [
    "response.headers"
   ]
  },
  {
   "cell_type": "markdown",
   "metadata": {},
   "source": [
    "Parse response as JSON"
   ]
  },
  {
   "cell_type": "code",
   "execution_count": null,
   "metadata": {
    "ExecuteTime": {
     "end_time": "2016-12-09T23:57:46.238290",
     "start_time": "2016-12-09T23:57:46.231285"
    },
    "collapsed": false
   },
   "outputs": [],
   "source": [
    "response.json()"
   ]
  },
  {
   "cell_type": "code",
   "execution_count": null,
   "metadata": {
    "ExecuteTime": {
     "end_time": "2016-12-09T23:57:51.713863",
     "start_time": "2016-12-09T23:57:51.710860"
    },
    "collapsed": true
   },
   "outputs": [],
   "source": [
    "results = response.json()['results']"
   ]
  },
  {
   "cell_type": "code",
   "execution_count": null,
   "metadata": {
    "collapsed": false
   },
   "outputs": [],
   "source": [
    "len(results)"
   ]
  },
  {
   "cell_type": "code",
   "execution_count": null,
   "metadata": {
    "ExecuteTime": {
     "end_time": "2016-12-09T23:57:52.398083",
     "start_time": "2016-12-09T23:57:52.391089"
    },
    "collapsed": false
   },
   "outputs": [],
   "source": [
    "results[0]"
   ]
  },
  {
   "cell_type": "markdown",
   "metadata": {},
   "source": [
    "Getting location"
   ]
  },
  {
   "cell_type": "code",
   "execution_count": null,
   "metadata": {
    "ExecuteTime": {
     "end_time": "2016-12-09T23:57:55.435156",
     "start_time": "2016-12-09T23:57:55.430149"
    },
    "collapsed": false
   },
   "outputs": [],
   "source": [
    "results[0]['geometry'] # ['location']"
   ]
  },
  {
   "cell_type": "code",
   "execution_count": null,
   "metadata": {
    "collapsed": false
   },
   "outputs": [],
   "source": [
    "results[0]['geometry']['location']"
   ]
  },
  {
   "cell_type": "code",
   "execution_count": null,
   "metadata": {
    "ExecuteTime": {
     "end_time": "2016-12-09T23:57:56.435072",
     "start_time": "2016-12-09T23:57:56.431068"
    },
    "collapsed": false
   },
   "outputs": [],
   "source": [
    "x_geo = results[0]['geometry']['location']\n",
    "print(x_geo['lng'], x_geo['lat'])"
   ]
  },
  {
   "cell_type": "markdown",
   "metadata": {
    "ExecuteTime": {
     "end_time": "2016-12-08T22:38:58.314601",
     "start_time": "2016-12-08T22:38:58.312599"
    }
   },
   "source": [
    "## Rest API methods\n",
    "\n",
    "http://jsonplaceholder.typicode.com/"
   ]
  },
  {
   "cell_type": "code",
   "execution_count": null,
   "metadata": {
    "ExecuteTime": {
     "end_time": "2016-12-08T22:45:23.371667",
     "start_time": "2016-12-08T22:45:23.368652"
    },
    "collapsed": false
   },
   "outputs": [],
   "source": [
    "from urllib import parse\n",
    "#do tworzenia zlozonych url"
   ]
  },
  {
   "cell_type": "code",
   "execution_count": null,
   "metadata": {
    "ExecuteTime": {
     "end_time": "2016-12-08T22:43:45.819465",
     "start_time": "2016-12-08T22:43:45.815460"
    },
    "collapsed": true
   },
   "outputs": [],
   "source": [
    "base_url = 'http://jsonplaceholder.typicode.com'"
   ]
  },
  {
   "cell_type": "code",
   "execution_count": null,
   "metadata": {
    "collapsed": false
   },
   "outputs": [],
   "source": [
    "parse.urljoin(base_url, 'customers')"
   ]
  },
  {
   "cell_type": "markdown",
   "metadata": {
    "ExecuteTime": {
     "end_time": "2016-12-09T18:36:25.242358",
     "start_time": "2016-12-09T18:36:25.239355"
    }
   },
   "source": [
    "### Get"
   ]
  },
  {
   "cell_type": "code",
   "execution_count": null,
   "metadata": {
    "ExecuteTime": {
     "end_time": "2016-12-09T01:02:45.215595",
     "start_time": "2016-12-09T01:02:44.431448"
    },
    "collapsed": true
   },
   "outputs": [],
   "source": [
    "response = requests.api.get(parse.urljoin(base_url, 'posts'))\n",
    "\n",
    "posts = response.json()"
   ]
  },
  {
   "cell_type": "code",
   "execution_count": null,
   "metadata": {
    "collapsed": true
   },
   "outputs": [],
   "source": [
    "posts"
   ]
  },
  {
   "cell_type": "code",
   "execution_count": null,
   "metadata": {
    "ExecuteTime": {
     "end_time": "2016-12-09T01:02:45.233576",
     "start_time": "2016-12-09T01:02:45.221597"
    },
    "collapsed": false
   },
   "outputs": [],
   "source": [
    "len(posts)"
   ]
  },
  {
   "cell_type": "code",
   "execution_count": null,
   "metadata": {
    "collapsed": false
   },
   "outputs": [],
   "source": [
    "posts[0]"
   ]
  },
  {
   "cell_type": "code",
   "execution_count": null,
   "metadata": {
    "collapsed": false
   },
   "outputs": [],
   "source": [
    "print(posts[0]['body'])"
   ]
  },
  {
   "cell_type": "code",
   "execution_count": null,
   "metadata": {
    "collapsed": true
   },
   "outputs": [],
   "source": [
    "print(' '.join([p['body'] for p in posts]))"
   ]
  },
  {
   "cell_type": "code",
   "execution_count": null,
   "metadata": {
    "ExecuteTime": {
     "end_time": "2016-12-09T18:42:15.606828",
     "start_time": "2016-12-09T18:42:14.983639"
    },
    "collapsed": false
   },
   "outputs": [],
   "source": [
    "response = requests.api.get(parse.urljoin(base_url, 'posts'), params={'id': 1})"
   ]
  },
  {
   "cell_type": "code",
   "execution_count": null,
   "metadata": {
    "ExecuteTime": {
     "end_time": "2016-12-09T01:03:43.896781",
     "start_time": "2016-12-09T01:03:43.891781"
    },
    "collapsed": false
   },
   "outputs": [],
   "source": [
    "response.url"
   ]
  },
  {
   "cell_type": "code",
   "execution_count": null,
   "metadata": {
    "collapsed": false
   },
   "outputs": [],
   "source": [
    "posts[0]"
   ]
  },
  {
   "cell_type": "code",
   "execution_count": null,
   "metadata": {
    "ExecuteTime": {
     "end_time": "2016-12-09T01:03:43.907791",
     "start_time": "2016-12-09T01:03:43.898782"
    },
    "collapsed": false
   },
   "outputs": [],
   "source": [
    "response.json()"
   ]
  },
  {
   "cell_type": "markdown",
   "metadata": {
    "ExecuteTime": {
     "end_time": "2016-12-09T18:36:12.521294",
     "start_time": "2016-12-09T18:36:12.519280"
    }
   },
   "source": [
    "### Post"
   ]
  },
  {
   "cell_type": "code",
   "execution_count": null,
   "metadata": {
    "ExecuteTime": {
     "end_time": "2016-12-09T21:05:02.683632",
     "start_time": "2016-12-09T21:05:02.100002"
    },
    "collapsed": false
   },
   "outputs": [],
   "source": [
    "response = requests.api.post(parse.urljoin(base_url, 'posts'), data={'body':'new post body', 'title': 'new post', 'userId': 1})"
   ]
  },
  {
   "cell_type": "code",
   "execution_count": null,
   "metadata": {
    "ExecuteTime": {
     "end_time": "2016-12-09T21:05:02.700645",
     "start_time": "2016-12-09T21:05:02.688608"
    },
    "collapsed": false
   },
   "outputs": [],
   "source": [
    "print(response.text)\n",
    "print(\"Status code:\", response.status_code)"
   ]
  },
  {
   "cell_type": "code",
   "execution_count": null,
   "metadata": {
    "ExecuteTime": {
     "end_time": "2016-12-09T21:00:38.801251",
     "start_time": "2016-12-09T21:00:38.795235"
    },
    "collapsed": false
   },
   "outputs": [],
   "source": [
    "requests.status_codes._codes[response.status_code]"
   ]
  },
  {
   "cell_type": "code",
   "execution_count": null,
   "metadata": {
    "collapsed": false
   },
   "outputs": [],
   "source": [
    "requests.status_codes._codes[200]"
   ]
  },
  {
   "cell_type": "code",
   "execution_count": null,
   "metadata": {
    "collapsed": false
   },
   "outputs": [],
   "source": [
    "requests.status_codes._codes[200][0]"
   ]
  },
  {
   "cell_type": "markdown",
   "metadata": {
    "ExecuteTime": {
     "end_time": "2016-12-09T20:47:44.189509",
     "start_time": "2016-12-09T20:47:44.186492"
    }
   },
   "source": [
    "### Put"
   ]
  },
  {
   "cell_type": "code",
   "execution_count": null,
   "metadata": {
    "ExecuteTime": {
     "end_time": "2016-12-09T21:04:50.039189",
     "start_time": "2016-12-09T21:04:49.476122"
    },
    "collapsed": false
   },
   "outputs": [],
   "source": [
    "response = requests.api.put(parse.urljoin(base_url, 'posts/1'), \n",
    "                            data={'body':'new post body', 'userId': 1})\n",
    "#patch aktualizuje to co wrzuciliśmy"
   ]
  },
  {
   "cell_type": "code",
   "execution_count": null,
   "metadata": {
    "collapsed": false
   },
   "outputs": [],
   "source": [
    "response.url"
   ]
  },
  {
   "cell_type": "code",
   "execution_count": null,
   "metadata": {
    "ExecuteTime": {
     "end_time": "2016-12-09T21:04:50.045191",
     "start_time": "2016-12-09T21:04:50.040187"
    },
    "collapsed": false
   },
   "outputs": [],
   "source": [
    "print(response.text)\n",
    "print(\"Status code:\", response.status_code)"
   ]
  },
  {
   "cell_type": "markdown",
   "metadata": {
    "ExecuteTime": {
     "end_time": "2016-12-09T18:47:10.162572",
     "start_time": "2016-12-09T18:47:10.159555"
    }
   },
   "source": [
    "### Patch"
   ]
  },
  {
   "cell_type": "code",
   "execution_count": null,
   "metadata": {
    "ExecuteTime": {
     "end_time": "2016-12-09T21:04:38.505581",
     "start_time": "2016-12-09T21:04:37.875292"
    },
    "collapsed": false
   },
   "outputs": [],
   "source": [
    "response = requests.api.patch(parse.urljoin(base_url, 'posts/1'), data={'body':'new post body'})"
   ]
  },
  {
   "cell_type": "code",
   "execution_count": null,
   "metadata": {
    "ExecuteTime": {
     "end_time": "2016-12-09T21:04:38.522564",
     "start_time": "2016-12-09T21:04:38.510557"
    },
    "collapsed": false
   },
   "outputs": [],
   "source": [
    "response.url"
   ]
  },
  {
   "cell_type": "code",
   "execution_count": null,
   "metadata": {
    "ExecuteTime": {
     "end_time": "2016-12-09T21:04:38.944480",
     "start_time": "2016-12-09T21:04:38.940477"
    },
    "collapsed": false
   },
   "outputs": [],
   "source": [
    "print(response.text)\n",
    "print(\"Status code:\", response.status_code)"
   ]
  },
  {
   "cell_type": "markdown",
   "metadata": {
    "ExecuteTime": {
     "end_time": "2016-12-09T18:47:10.162572",
     "start_time": "2016-12-09T18:47:10.159555"
    }
   },
   "source": [
    "### Delete"
   ]
  },
  {
   "cell_type": "code",
   "execution_count": null,
   "metadata": {
    "ExecuteTime": {
     "end_time": "2016-12-09T21:03:50.755471",
     "start_time": "2016-12-09T21:03:49.791581"
    },
    "collapsed": false
   },
   "outputs": [],
   "source": [
    "response = requests.api.delete(parse.urljoin(base_url, 'posts/1'))"
   ]
  },
  {
   "cell_type": "code",
   "execution_count": null,
   "metadata": {
    "ExecuteTime": {
     "end_time": "2016-12-09T21:03:50.772484",
     "start_time": "2016-12-09T21:03:50.760446"
    },
    "collapsed": false
   },
   "outputs": [],
   "source": [
    "response.url"
   ]
  },
  {
   "cell_type": "code",
   "execution_count": null,
   "metadata": {
    "ExecuteTime": {
     "end_time": "2016-12-09T21:04:27.744291",
     "start_time": "2016-12-09T21:04:27.740274"
    },
    "collapsed": false
   },
   "outputs": [],
   "source": [
    "print(response.text)\n",
    "print(\"Status code:\", response.status_code)"
   ]
  },
  {
   "cell_type": "code",
   "execution_count": null,
   "metadata": {
    "ExecuteTime": {
     "end_time": "2016-12-09T21:06:47.900431",
     "start_time": "2016-12-09T21:06:47.204650"
    },
    "collapsed": false
   },
   "outputs": [],
   "source": [
    "response = requests.api.delete(parse.urljoin(base_url, 'posts'), data={'id': 1})\n",
    "print(response.text)\n",
    "print(\"Status code:\", response.status_code)"
   ]
  },
  {
   "cell_type": "markdown",
   "metadata": {
    "ExecuteTime": {
     "end_time": "2016-12-08T22:32:28.591056",
     "start_time": "2016-12-08T22:32:28.583060"
    }
   },
   "source": [
    "## Parsing HTML\n",
    "\n",
    "lxml - http://lxml.de/  \n",
    "BeautifulSoup4 - https://www.crummy.com/software/BeautifulSoup/"
   ]
  },
  {
   "cell_type": "code",
   "execution_count": null,
   "metadata": {
    "ExecuteTime": {
     "end_time": "2016-12-08T22:35:17.378147",
     "start_time": "2016-12-08T22:35:17.303079"
    },
    "collapsed": true
   },
   "outputs": [],
   "source": [
    "import bs4"
   ]
  },
  {
   "cell_type": "code",
   "execution_count": null,
   "metadata": {
    "ExecuteTime": {
     "end_time": "2016-12-08T22:35:28.864379",
     "start_time": "2016-12-08T22:35:28.607437"
    },
    "collapsed": true
   },
   "outputs": [],
   "source": [
    "page = requests.get(\"http://www.example.com\").text"
   ]
  },
  {
   "cell_type": "code",
   "execution_count": null,
   "metadata": {
    "ExecuteTime": {
     "end_time": "2016-12-09T22:18:07.301398",
     "start_time": "2016-12-09T22:18:07.016503"
    },
    "collapsed": false
   },
   "outputs": [],
   "source": [
    "try:\n",
    "    response = requests.get(\"http://www.example.com\", timeout=5)\n",
    "    response.raise_for_status()\n",
    "except (requests.HTTPError, requests.ConnectTimeout) as e:\n",
    "    print(\"Failed to load web resource, error:\", e)\n",
    "else:\n",
    "    page = response.text"
   ]
  },
  {
   "cell_type": "code",
   "execution_count": null,
   "metadata": {
    "ExecuteTime": {
     "end_time": "2016-12-09T22:18:07.499924",
     "start_time": "2016-12-09T22:18:07.494921"
    },
    "collapsed": false
   },
   "outputs": [],
   "source": [
    "page"
   ]
  },
  {
   "cell_type": "code",
   "execution_count": null,
   "metadata": {
    "ExecuteTime": {
     "end_time": "2016-12-08T22:36:12.747847",
     "start_time": "2016-12-08T22:36:12.743844"
    },
    "collapsed": false
   },
   "outputs": [],
   "source": [
    "doc = bs4.BeautifulSoup(page, 'lxml')"
   ]
  },
  {
   "cell_type": "code",
   "execution_count": null,
   "metadata": {
    "ExecuteTime": {
     "end_time": "2016-12-09T22:11:57.361798",
     "start_time": "2016-12-09T22:11:57.351802"
    },
    "collapsed": false
   },
   "outputs": [],
   "source": [
    "doc"
   ]
  },
  {
   "cell_type": "markdown",
   "metadata": {
    "ExecuteTime": {
     "end_time": "2016-12-09T22:12:32.641827",
     "start_time": "2016-12-09T22:12:32.638824"
    }
   },
   "source": [
    "### Getting all links"
   ]
  },
  {
   "cell_type": "code",
   "execution_count": null,
   "metadata": {
    "ExecuteTime": {
     "end_time": "2016-12-08T22:36:57.427176",
     "start_time": "2016-12-08T22:36:57.424164"
    },
    "collapsed": false
   },
   "outputs": [],
   "source": [
    "link = doc.find_all(\"a\")[0]"
   ]
  },
  {
   "cell_type": "code",
   "execution_count": null,
   "metadata": {
    "ExecuteTime": {
     "end_time": "2016-12-08T22:37:09.619837",
     "start_time": "2016-12-08T22:37:09.615817"
    },
    "collapsed": false
   },
   "outputs": [],
   "source": [
    "link = doc.find_all(\"a\")[0]\n",
    "print(link.text)"
   ]
  },
  {
   "cell_type": "code",
   "execution_count": null,
   "metadata": {
    "ExecuteTime": {
     "end_time": "2016-12-08T22:37:44.547924",
     "start_time": "2016-12-08T22:37:44.543907"
    },
    "collapsed": false
   },
   "outputs": [],
   "source": [
    "print(link.attrs['href'])"
   ]
  },
  {
   "cell_type": "code",
   "execution_count": null,
   "metadata": {
    "ExecuteTime": {
     "end_time": "2016-12-09T22:18:57.277597",
     "start_time": "2016-12-09T22:18:57.272580"
    },
    "collapsed": false
   },
   "outputs": [],
   "source": [
    "for link in doc.find_all(\"a\"):\n",
    "    print(link.attrs['href'])"
   ]
  },
  {
   "cell_type": "code",
   "execution_count": null,
   "metadata": {
    "ExecuteTime": {
     "end_time": "2016-12-09T22:19:46.907003",
     "start_time": "2016-12-09T22:19:46.903999"
    },
    "collapsed": true
   },
   "outputs": [],
   "source": [
    "link.attrs.get('stuff')"
   ]
  },
  {
   "cell_type": "code",
   "execution_count": null,
   "metadata": {
    "ExecuteTime": {
     "end_time": "2016-12-09T22:20:07.084724",
     "start_time": "2016-12-09T22:20:07.079719"
    },
    "collapsed": false
   },
   "outputs": [],
   "source": [
    "link.attrs.get('stuff', 'http://default.com')"
   ]
  },
  {
   "cell_type": "code",
   "execution_count": null,
   "metadata": {
    "ExecuteTime": {
     "end_time": "2016-12-09T22:20:17.934074",
     "start_time": "2016-12-09T22:20:17.928077"
    },
    "collapsed": false
   },
   "outputs": [],
   "source": [
    "link.attrs('stuff', \"http://default.com\")"
   ]
  },
  {
   "cell_type": "markdown",
   "metadata": {},
   "source": [
    "## XML\n",
    "\n",
    "https://docs.python.org/3/library/xml.etree.elementtree.html"
   ]
  },
  {
   "cell_type": "code",
   "execution_count": null,
   "metadata": {
    "ExecuteTime": {
     "end_time": "2016-12-10T00:27:16.875052",
     "start_time": "2016-12-10T00:27:16.872067"
    },
    "collapsed": true
   },
   "outputs": [],
   "source": [
    "import xml.etree.ElementTree"
   ]
  },
  {
   "cell_type": "code",
   "execution_count": null,
   "metadata": {
    "ExecuteTime": {
     "end_time": "2016-12-10T00:27:23.520736",
     "start_time": "2016-12-10T00:27:23.344609"
    },
    "collapsed": true
   },
   "outputs": [],
   "source": [
    "response = requests.get(\"http://www.thomas-bayer.com/sqlrest/CUSTOMER/\")"
   ]
  },
  {
   "cell_type": "code",
   "execution_count": null,
   "metadata": {
    "ExecuteTime": {
     "end_time": "2016-12-10T00:27:57.963386",
     "start_time": "2016-12-10T00:27:57.959371"
    },
    "collapsed": true
   },
   "outputs": [],
   "source": [
    "print(response.text)"
   ]
  },
  {
   "cell_type": "code",
   "execution_count": null,
   "metadata": {
    "ExecuteTime": {
     "end_time": "2016-12-10T00:27:29.572769",
     "start_time": "2016-12-10T00:27:29.568766"
    },
    "collapsed": true
   },
   "outputs": [],
   "source": [
    "customers_xml = xml.etree.ElementTree.fromstring(response.text)"
   ]
  },
  {
   "cell_type": "code",
   "execution_count": null,
   "metadata": {
    "ExecuteTime": {
     "end_time": "2016-12-10T00:31:40.261783",
     "start_time": "2016-12-10T00:31:40.255768"
    },
    "collapsed": true
   },
   "outputs": [],
   "source": [
    "customers_xml.getchildren()  # ALL CHILDREN ELEMENTS"
   ]
  },
  {
   "cell_type": "code",
   "execution_count": null,
   "metadata": {
    "ExecuteTime": {
     "end_time": "2016-12-10T00:30:19.762956",
     "start_time": "2016-12-10T00:30:19.759942"
    },
    "collapsed": false
   },
   "outputs": [],
   "source": [
    "customer0 = customers_xml.getchildren()[0]\n",
    "customer0"
   ]
  },
  {
   "cell_type": "code",
   "execution_count": null,
   "metadata": {
    "ExecuteTime": {
     "end_time": "2016-12-10T00:32:00.803997",
     "start_time": "2016-12-10T00:32:00.798992"
    },
    "collapsed": false
   },
   "outputs": [],
   "source": [
    "customer0.text  # VALUE OF ELEMENT - TEXT CONTENT"
   ]
  },
  {
   "cell_type": "code",
   "execution_count": null,
   "metadata": {
    "ExecuteTime": {
     "end_time": "2016-12-10T00:30:27.363069",
     "start_time": "2016-12-10T00:30:27.359064"
    },
    "collapsed": false
   },
   "outputs": [],
   "source": [
    "customer0.items()  # ITEMS (ATTRIBUTES) OF AN ELEMENT, (KEY, VALUE)"
   ]
  },
  {
   "cell_type": "code",
   "execution_count": null,
   "metadata": {
    "ExecuteTime": {
     "end_time": "2016-12-10T00:33:10.140252",
     "start_time": "2016-12-10T00:33:10.135249"
    },
    "collapsed": false
   },
   "outputs": [],
   "source": [
    "customer0.keys()  # KEYS - ATTRIBUTES NAMES"
   ]
  },
  {
   "cell_type": "code",
   "execution_count": null,
   "metadata": {
    "ExecuteTime": {
     "end_time": "2016-12-10T00:33:23.284618",
     "start_time": "2016-12-10T00:33:23.279610"
    },
    "collapsed": false
   },
   "outputs": [],
   "source": [
    "customer0.get('{http://www.w3.org/1999/xlink}href')  # GET ATTRIBUTE BY KEY"
   ]
  },
  {
   "cell_type": "code",
   "execution_count": null,
   "metadata": {
    "ExecuteTime": {
     "end_time": "2016-12-10T00:30:46.108100",
     "start_time": "2016-12-10T00:30:46.103096"
    },
    "collapsed": false
   },
   "outputs": [],
   "source": [
    "customers_xml.find('CUSTOMER')  # GET CHILD ELEMENT FOR NAME (RETURNS ONLY FIRST FOUND ELEMENT)"
   ]
  },
  {
   "cell_type": "code",
   "execution_count": null,
   "metadata": {
    "collapsed": false
   },
   "outputs": [],
   "source": [
    "customers_xml.find('CUSTOMER')  # GET 1st CHILD ELEMENT FOR NAME"
   ]
  },
  {
   "cell_type": "code",
   "execution_count": null,
   "metadata": {
    "ExecuteTime": {
     "end_time": "2016-12-10T00:34:08.821558",
     "start_time": "2016-12-10T00:34:08.816554"
    },
    "collapsed": true
   },
   "outputs": [],
   "source": [
    "customers_xml.findall('CUSTOMER')  # GET ALL CHILD ELEMENT FOR NAME"
   ]
  },
  {
   "cell_type": "markdown",
   "metadata": {
    "ExecuteTime": {
     "end_time": "2016-12-09T22:42:37.784763",
     "start_time": "2016-12-09T22:42:37.780760"
    }
   },
   "source": [
    "# Exercise"
   ]
  },
  {
   "cell_type": "markdown",
   "metadata": {},
   "source": [
    "Our final output is a list of Customers containing their data and their coordinates. It can be represented by list of dicts.  \n",
    "We will get our Customers from XML exercise and their coordinates from `googleapis` (JSON exercise).\n",
    "\n",
    "---\n",
    "1. Fetch customers from **http://www.thomas-bayer.com/sqlrest/CUSTOMER/**. Create list named **customers** containing dicts with Customers `id` and `link`.  \n",
    "    Output should look like this: \n",
    "           [{'id': '2', 'link': 'http://www.thomas-bayer.com/sqlrest/CUSTOMER/2/'},\n",
    "            {'id': '3', 'link': 'http://www.thomas-bayer.com/sqlrest/CUSTOMER/3/'},\n",
    "            ... \n",
    "           ]\n",
    "           \n",
    "2. For each Customer fetch their details using their links. Create list named **customers_data** containing dicts with Customers `id`, `link`, `firstname`, `lastname`, `city` and `street`.  \n",
    "    Output should look like this:\n",
    "        [{'city': 'Lyon',\n",
    "          'firstname': 'Anne',\n",
    "          'id': '2',\n",
    "          'lastname': 'Miller',\n",
    "          'link': 'http://www.thomas-bayer.com/sqlrest/CUSTOMER/2/',\n",
    "          'street': '20 Upland Pl.'},\n",
    "         {'city': 'San Francisco',\n",
    "          'firstname': 'Michael',\n",
    "          'id': '3',\n",
    "          'lastname': 'Clancy',\n",
    "          'link': 'http://www.thomas-bayer.com/sqlrest/CUSTOMER/3/',\n",
    "          'street': '542 Upland Pl.'},\n",
    "          ...\n",
    "         ]\n",
    "         \n",
    "3. For each Customer fetch their coordinates using **http://maps.googleapis.com/maps/api/geocode/json** and Customers data (`\"{street}, {city}\"`).  \n",
    "    Create list named **customers_data_geo** containing dicts with Customers `id`, `link`, `firstname`, `lastname`, `city`, `street`, `lat` and `lng`.  \n",
    "    If Customers location is not found, then fill `lat` and `lng` with `None`, otherwise use first found location.  \n",
    "    Output should look like this:\n",
    "        [{'city': 'Lyon',\n",
    "          'firstname': 'Anne',\n",
    "          'id': '2',\n",
    "          'lastname': 'Miller',\n",
    "          'lat': None,\n",
    "          'link': 'http://www.thomas-bayer.com/sqlrest/CUSTOMER/2/',\n",
    "          'lng': None,\n",
    "          'street': '20 Upland Pl.'},\n",
    "         {'city': 'San Francisco',\n",
    "          'firstname': 'Michael',\n",
    "          'id': '3',\n",
    "          'lastname': 'Clancy',\n",
    "          'lat': 37.7302685,\n",
    "          'link': 'http://www.thomas-bayer.com/sqlrest/CUSTOMER/3/',\n",
    "          'lng': -122.4659227,\n",
    "          'street': '542 Upland Pl.'},\n",
    "          ...\n",
    "         ]"
   ]
  },
  {
   "cell_type": "code",
   "execution_count": null,
   "metadata": {
    "collapsed": false
   },
   "outputs": [],
   "source": [
    "response = requests.get('http://www.thomas-bayer.com/sqlrest/CUSTOMER/')\n",
    "customers_xml = xml.etree.ElementTree.fromstring(response.text)\n",
    "\n",
    "customers = customers_xml.getchildren()\n",
    "\n",
    "customers_temp = []\n",
    "\n",
    "for customer in customers:\n",
    "    d = {'id': customer.text,\n",
    "        'link': customer.get('{http://www.w3.org/1999/xlink}href')}\n",
    "    customers_temp.append(d)"
   ]
  },
  {
   "cell_type": "code",
   "execution_count": null,
   "metadata": {
    "collapsed": false
   },
   "outputs": [],
   "source": [
    "customers = customers_temp\n",
    "customers"
   ]
  },
  {
   "cell_type": "code",
   "execution_count": null,
   "metadata": {
    "collapsed": true
   },
   "outputs": [],
   "source": [
    "customer = customers[0]"
   ]
  },
  {
   "cell_type": "code",
   "execution_count": null,
   "metadata": {
    "collapsed": false
   },
   "outputs": [],
   "source": [
    "customer"
   ]
  },
  {
   "cell_type": "code",
   "execution_count": null,
   "metadata": {
    "collapsed": true
   },
   "outputs": [],
   "source": [
    "response = requests.get(customer['link'])\n",
    "customer_xml = xml.etree.ElementTree.fromstring(response.text)"
   ]
  },
  {
   "cell_type": "code",
   "execution_count": null,
   "metadata": {
    "collapsed": false
   },
   "outputs": [],
   "source": [
    "firstname = customer_xml.find('FIRSTNAME').text\n",
    "lastname = customer_xml.find('LASTNAME').text\n",
    "street = customer_xml.find('STREET').text\n",
    "city = customer_xml.find('CITY').text\n",
    "d = {'id': customer['id'],\n",
    "    'link': customer['link'],\n",
    "    'firstname': firstname,\n",
    "    'lastname': lastname,\n",
    "    'street': street,\n",
    "    'city': city} "
   ]
  },
  {
   "cell_type": "code",
   "execution_count": null,
   "metadata": {
    "collapsed": false
   },
   "outputs": [],
   "source": [
    "d"
   ]
  },
  {
   "cell_type": "code",
   "execution_count": null,
   "metadata": {
    "collapsed": true
   },
   "outputs": [],
   "source": [
    "customers_data = []\n",
    "\n",
    "for customer in customers: \n",
    "    response = requests.get(customer['link'])\n",
    "    customer_xml = xml.etree.ElementTree.fromstring(response.text)\n",
    "    firstname = customer_xml.find('FIRSTNAME').text\n",
    "    lastname = customer_xml.find('LASTNAME').text\n",
    "    street = customer_xml.find('STREET').text\n",
    "    city = customer_xml.find('CITY').text\n",
    "    d = {'id': customer['id'],\n",
    "        'link': customer['link'],\n",
    "        'firstname': firstname,\n",
    "        'lastname': lastname,\n",
    "        'street': street,\n",
    "        'city': city} \n",
    "    customers_data.append(d)\n",
    "    \n",
    "customers_data\n",
    "    "
   ]
  },
  {
   "cell_type": "code",
   "execution_count": null,
   "metadata": {
    "collapsed": false
   },
   "outputs": [],
   "source": [
    "\n"
   ]
  }
 ],
 "metadata": {
  "anaconda-cloud": {},
  "hide_input": false,
  "kernelspec": {
   "display_name": "Python [default]",
   "language": "python",
   "name": "python3"
  },
  "language_info": {
   "codemirror_mode": {
    "name": "ipython",
    "version": 3
   },
   "file_extension": ".py",
   "mimetype": "text/x-python",
   "name": "python",
   "nbconvert_exporter": "python",
   "pygments_lexer": "ipython3",
   "version": "3.5.2"
  },
  "toc": {
   "nav_menu": {
    "height": "300px",
    "width": "252px"
   },
   "navigate_menu": true,
   "number_sections": true,
   "sideBar": true,
   "threshold": 4,
   "toc_cell": false,
   "toc_section_display": "block",
   "toc_window_display": true
  }
 },
 "nbformat": 4,
 "nbformat_minor": 1
}
