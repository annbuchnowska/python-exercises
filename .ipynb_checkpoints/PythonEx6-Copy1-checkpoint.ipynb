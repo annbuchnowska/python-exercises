{
 "cells": [
  {
   "cell_type": "markdown",
   "metadata": {
    "ExecuteTime": {
     "end_time": "2016-12-10T01:00:44.915153",
     "start_time": "2016-12-10T01:00:44.911147"
    }
   },
   "source": [
    "# CSV - Comma-separated values\n",
    "\n",
    "\n",
    "https://tools.ietf.org/html/rfc4180.html  \n",
    "https://en.wikipedia.org/wiki/Comma-separated_values"
   ]
  },
  {
   "cell_type": "markdown",
   "metadata": {
    "ExecuteTime": {
     "end_time": "2016-12-10T01:09:00.739590",
     "start_time": "2016-12-10T01:09:00.735584"
    }
   },
   "source": [
    "## Simple python code\n",
    "`sample1.csv`\n",
    "\n",
    "Contents:\n",
    "\n",
    "    Title,Release Date,Director\n",
    "    And Now For Something Completely Different,1971,Ian MacNaughton\n",
    "    Monty Python And The Holy Grail,1975,Terry Gilliam and Terry Jones\n",
    "    Monty Python's Life Of Brian,1979,Terry Jones\n",
    "    Monty Python Live At The Hollywood Bowl,1982,Terry Hughes\n",
    "    Monty Python's The Meaning Of Life,1983,Terry Jones"
   ]
  },
  {
   "cell_type": "code",
   "execution_count": null,
   "metadata": {
    "ExecuteTime": {
     "end_time": "2016-12-10T01:11:00.707852",
     "start_time": "2016-12-10T01:11:00.703836"
    },
    "collapsed": false,
    "run_control": {
     "frozen": false,
     "read_only": false
    }
   },
   "outputs": [],
   "source": [
    "with open('sample1.csv') as f:\n",
    "    content = f.readlines()\n",
    "\n",
    "content"
   ]
  },
  {
   "cell_type": "code",
   "execution_count": null,
   "metadata": {
    "ExecuteTime": {
     "end_time": "2016-12-10T01:13:07.962570",
     "start_time": "2016-12-10T01:13:07.959568"
    },
    "collapsed": false,
    "run_control": {
     "frozen": false,
     "read_only": false
    }
   },
   "outputs": [],
   "source": [
    "header = content[0]\n",
    "header"
   ]
  },
  {
   "cell_type": "code",
   "execution_count": null,
   "metadata": {
    "ExecuteTime": {
     "end_time": "2016-12-10T01:13:08.148132",
     "start_time": "2016-12-10T01:13:08.143115"
    },
    "collapsed": false,
    "run_control": {
     "frozen": false,
     "read_only": false
    }
   },
   "outputs": [],
   "source": [
    "#usuwa znaki specjalne\n",
    "header = header.strip()\n",
    "header"
   ]
  },
  {
   "cell_type": "code",
   "execution_count": null,
   "metadata": {
    "ExecuteTime": {
     "end_time": "2016-12-10T01:13:14.774050",
     "start_time": "2016-12-10T01:13:14.768045"
    },
    "collapsed": false,
    "run_control": {
     "frozen": false,
     "read_only": false
    }
   },
   "outputs": [],
   "source": [
    "header = header.split(',')\n",
    "header"
   ]
  },
  {
   "cell_type": "code",
   "execution_count": null,
   "metadata": {
    "ExecuteTime": {
     "end_time": "2016-12-10T01:14:12.868464",
     "start_time": "2016-12-10T01:14:12.864462"
    },
    "collapsed": false,
    "run_control": {
     "frozen": false,
     "read_only": false
    }
   },
   "outputs": [],
   "source": [
    "row = content[1]\n",
    "row = row.strip().split(',')\n",
    "row"
   ]
  },
  {
   "cell_type": "code",
   "execution_count": null,
   "metadata": {
    "ExecuteTime": {
     "end_time": "2016-12-10T01:15:02.638391",
     "start_time": "2016-12-10T01:15:02.632387"
    },
    "collapsed": false,
    "run_control": {
     "frozen": false,
     "read_only": false
    }
   },
   "outputs": [],
   "source": [
    "rows = []\n",
    "for row in content[1:]:\n",
    "    row = row.strip().split(',')\n",
    "    rows.append(row)\n",
    "    \n",
    "rows"
   ]
  },
  {
   "cell_type": "code",
   "execution_count": null,
   "metadata": {
    "ExecuteTime": {
     "end_time": "2016-12-10T01:15:46.445611",
     "start_time": "2016-12-10T01:15:46.439607"
    },
    "collapsed": false,
    "run_control": {
     "frozen": false,
     "read_only": false
    }
   },
   "outputs": [],
   "source": [
    "rows = [row.strip().split(',') for row in content[1:]]\n",
    "    \n",
    "rows"
   ]
  },
  {
   "cell_type": "markdown",
   "metadata": {
    "ExecuteTime": {
     "end_time": "2016-12-10T01:17:07.085244",
     "start_time": "2016-12-10T01:17:07.081241"
    }
   },
   "source": [
    "__Parsing line by line__"
   ]
  },
  {
   "cell_type": "code",
   "execution_count": null,
   "metadata": {
    "ExecuteTime": {
     "end_time": "2016-12-10T01:19:08.100081",
     "start_time": "2016-12-10T01:19:08.096063"
    },
    "collapsed": false,
    "run_control": {
     "frozen": false,
     "read_only": false
    }
   },
   "outputs": [],
   "source": [
    "with open('sample1.csv') as f:\n",
    "    rows = [line.strip().split(',') for line in f] #dla kazdej linii w pliku"
   ]
  },
  {
   "cell_type": "code",
   "execution_count": null,
   "metadata": {
    "ExecuteTime": {
     "end_time": "2016-12-10T01:19:09.589001",
     "start_time": "2016-12-10T01:19:09.583995"
    },
    "collapsed": false,
    "run_control": {
     "frozen": false,
     "read_only": false
    }
   },
   "outputs": [],
   "source": [
    "rows"
   ]
  },
  {
   "cell_type": "markdown",
   "metadata": {
    "ExecuteTime": {
     "end_time": "2016-12-10T01:20:16.874470",
     "start_time": "2016-12-10T01:20:16.871468"
    }
   },
   "source": [
    "## CSV reader\n",
    "\n",
    "https://docs.python.org/3/library/csv.html"
   ]
  },
  {
   "cell_type": "code",
   "execution_count": null,
   "metadata": {
    "ExecuteTime": {
     "end_time": "2016-12-10T01:20:43.692864",
     "start_time": "2016-12-10T01:20:43.687847"
    },
    "collapsed": false,
    "run_control": {
     "frozen": false,
     "read_only": false
    }
   },
   "outputs": [],
   "source": [
    "import csv"
   ]
  },
  {
   "cell_type": "markdown",
   "metadata": {},
   "source": [
    "### reader\n",
    "`csv.reader(csvfile, dialect='excel', **fmtparams)`\n",
    "\n",
    "---\n",
    "__Footnotes__  \n",
    "(1, 2) If `newline=''` is not specified, newlines embedded inside quoted fields will not be interpreted correctly, and on platforms that use `\\r\\n` linendings on write an extra `\\r` will be added. It should always be safe to specify `newline=''`, since the csv module does its own (universal) newline handling."
   ]
  },
  {
   "cell_type": "code",
   "execution_count": null,
   "metadata": {
    "ExecuteTime": {
     "end_time": "2016-12-10T01:32:59.407764",
     "start_time": "2016-12-10T01:32:59.400759"
    },
    "collapsed": false,
    "run_control": {
     "frozen": false,
     "read_only": false
    }
   },
   "outputs": [],
   "source": [
    "with open('sample1.csv', newline='') as csvfile:\n",
    "    csv_reader = csv.reader(csvfile, delimiter=',')\n",
    "    rows = [row for row in csv_reader]\n",
    "    \n",
    "rows"
   ]
  },
  {
   "cell_type": "code",
   "execution_count": null,
   "metadata": {
    "ExecuteTime": {
     "end_time": "2016-12-10T01:36:36.825391",
     "start_time": "2016-12-10T01:36:36.817393"
    },
    "collapsed": false,
    "run_control": {
     "frozen": false,
     "read_only": false
    }
   },
   "outputs": [],
   "source": [
    "with open('sample1.csv', newline='') as f:\n",
    "    reader = csv.reader(f)\n",
    "    try:\n",
    "        for row in reader:\n",
    "            print(row)\n",
    "    except csv.Error as e:\n",
    "        sys.exit('file {}, line {}: {}'.format(filename, reader.line_num, e))"
   ]
  },
  {
   "cell_type": "markdown",
   "metadata": {
    "ExecuteTime": {
     "end_time": "2016-12-10T01:25:25.411205",
     "start_time": "2016-12-10T01:25:25.408189"
    }
   },
   "source": [
    "### DictReader\n",
    "\n",
    "`class csv.DictReader(csvfile, fieldnames=None, restkey=None, restval=None, dialect='excel', *args, **kwds)`"
   ]
  },
  {
   "cell_type": "code",
   "execution_count": null,
   "metadata": {
    "ExecuteTime": {
     "end_time": "2016-12-10T01:33:06.416122",
     "start_time": "2016-12-10T01:33:06.409128"
    },
    "collapsed": false,
    "run_control": {
     "frozen": false,
     "read_only": false
    }
   },
   "outputs": [],
   "source": [
    "with open('sample1.csv') as csvfile:\n",
    "    rows = [row for row in csv.DictReader(csvfile)]  # For tests set some wrong delimiter\n",
    "    \n",
    "rows"
   ]
  },
  {
   "cell_type": "code",
   "execution_count": null,
   "metadata": {
    "collapsed": false
   },
   "outputs": [],
   "source": [
    "rows[0]['Director']"
   ]
  },
  {
   "cell_type": "markdown",
   "metadata": {
    "ExecuteTime": {
     "end_time": "2016-12-10T01:29:11.404592",
     "start_time": "2016-12-10T01:29:11.401590"
    }
   },
   "source": [
    "## More complicated file\n",
    "\n",
    "`sample2.csv`  \n",
    "\n",
    "Contents:\n",
    "\n",
    "    John,Doe,120 jefferson st.,Riverside, NJ, 08075\n",
    "    Jack,McGinnis,220 hobo Av.,Phila, PA,09119\n",
    "    \"John \"\"Da Man\"\"\",Repici,120 Jefferson St.,Riverside, NJ,08075\n",
    "    Stephen,Tyler,\"7452 Terrace \"\"At the Plaza\"\" road\",SomeTown,SD, 91234\n",
    "    ,Blankman,,SomeTown, SD, 00298\n",
    "    \"Joan \"\"the bone\"\", Anne\",Jet,\"9th, at Terrace plc\",Desert City,CO,00123"
   ]
  },
  {
   "cell_type": "markdown",
   "metadata": {
    "ExecuteTime": {
     "end_time": "2016-12-10T01:31:34.229646",
     "start_time": "2016-12-10T01:31:34.224628"
    }
   },
   "source": [
    "__Custom Python code__"
   ]
  },
  {
   "cell_type": "code",
   "execution_count": null,
   "metadata": {
    "ExecuteTime": {
     "end_time": "2016-12-10T01:30:51.791629",
     "start_time": "2016-12-10T01:30:51.785613"
    },
    "collapsed": false,
    "run_control": {
     "frozen": false,
     "read_only": false
    }
   },
   "outputs": [],
   "source": [
    "with open('sample2.csv') as f:\n",
    "    rows = [line.strip().split(',') for line in f]\n",
    "    \n",
    "rows"
   ]
  },
  {
   "cell_type": "code",
   "execution_count": null,
   "metadata": {
    "ExecuteTime": {
     "end_time": "2016-12-10T01:31:21.741133",
     "start_time": "2016-12-10T01:31:21.737129"
    },
    "collapsed": false,
    "run_control": {
     "frozen": false,
     "read_only": false
    }
   },
   "outputs": [],
   "source": [
    "[len(row) for row in rows]"
   ]
  },
  {
   "cell_type": "markdown",
   "metadata": {
    "ExecuteTime": {
     "end_time": "2016-12-10T01:31:46.524990",
     "start_time": "2016-12-10T01:31:46.520972"
    }
   },
   "source": [
    "__CSV reader__"
   ]
  },
  {
   "cell_type": "code",
   "execution_count": null,
   "metadata": {
    "ExecuteTime": {
     "end_time": "2016-12-10T01:27:56.288405",
     "start_time": "2016-12-10T01:27:56.280386"
    },
    "collapsed": false,
    "run_control": {
     "frozen": false,
     "read_only": false
    }
   },
   "outputs": [],
   "source": [
    "with open('sample2.csv') as csvfile:\n",
    "    csv_reader = csv.reader(csvfile, delimiter=',')\n",
    "    rows = [row for row in csv_reader]\n",
    "    \n",
    "rows"
   ]
  },
  {
   "cell_type": "code",
   "execution_count": null,
   "metadata": {
    "ExecuteTime": {
     "end_time": "2016-12-10T01:28:16.341031",
     "start_time": "2016-12-10T01:28:16.337028"
    },
    "collapsed": false,
    "run_control": {
     "frozen": false,
     "read_only": false
    }
   },
   "outputs": [],
   "source": [
    "[len(row) for row in rows]"
   ]
  },
  {
   "cell_type": "markdown",
   "metadata": {},
   "source": [
    "__DictReader__"
   ]
  },
  {
   "cell_type": "code",
   "execution_count": null,
   "metadata": {
    "ExecuteTime": {
     "end_time": "2016-12-10T11:44:33.753735",
     "start_time": "2016-12-10T11:44:33.743727"
    },
    "collapsed": false,
    "run_control": {
     "frozen": false,
     "read_only": false
    }
   },
   "outputs": [],
   "source": [
    "with open('sample2.csv') as csvfile:\n",
    "    #rows = [row for row in csv.DictReader(csvfile)]\n",
    "    rows = [row for row in csv.DictReader(csvfile, fieldnames=['firstname', 'lastname', 'street', 'city', 'state', 'postal_code'])]\n",
    "    \n",
    "rows\n",
    "#1wsza linijka potraktowana jako header"
   ]
  },
  {
   "cell_type": "code",
   "execution_count": null,
   "metadata": {
    "ExecuteTime": {
     "end_time": "2016-12-10T01:45:38.175740",
     "start_time": "2016-12-10T01:45:38.169734"
    },
    "collapsed": false,
    "run_control": {
     "frozen": false,
     "read_only": false
    }
   },
   "outputs": [],
   "source": [
    "[len(row) for row in rows]"
   ]
  },
  {
   "cell_type": "markdown",
   "metadata": {
    "ExecuteTime": {
     "end_time": "2016-12-10T10:56:10.409318",
     "start_time": "2016-12-10T10:56:10.406326"
    }
   },
   "source": [
    "## Writing to CSV file\n",
    "\n",
    "`class csv.DictWriter(csvfile, fieldnames, restval='', extrasaction='raise', dialect='excel', *args, **kwds)`\n",
    "\n",
    "https://docs.python.org/3/library/csv.html#csv.DictWriter"
   ]
  },
  {
   "cell_type": "code",
   "execution_count": null,
   "metadata": {
    "collapsed": false
   },
   "outputs": [],
   "source": [
    "rows[0].keys() #pobranie headera, wszystkich kluczy"
   ]
  },
  {
   "cell_type": "code",
   "execution_count": null,
   "metadata": {
    "collapsed": false
   },
   "outputs": [],
   "source": [
    "fieldnames = list(rows[0].keys())\n",
    "fieldnames"
   ]
  },
  {
   "cell_type": "code",
   "execution_count": null,
   "metadata": {
    "ExecuteTime": {
     "end_time": "2016-12-10T11:08:52.709140",
     "start_time": "2016-12-10T11:08:52.703136"
    },
    "collapsed": false,
    "run_control": {
     "frozen": false,
     "read_only": false
    }
   },
   "outputs": [],
   "source": [
    "with open('sample2_1.csv', 'w', newline='') as csvfile:\n",
    "    fieldnames = list(rows[0].keys())\n",
    "    writer = csv.DictWriter(csvfile, fieldnames=fieldnames)  #, dialect='unix')  #, quoting=csv.QUOTE_MINIMAL)\n",
    "    \n",
    "    writer.writeheader()\n",
    "    writer.writerows(rows)"
   ]
  },
  {
   "cell_type": "code",
   "execution_count": null,
   "metadata": {
    "ExecuteTime": {
     "end_time": "2016-12-10T11:01:16.145908",
     "start_time": "2016-12-10T11:01:16.140890"
    },
    "collapsed": false,
    "run_control": {
     "frozen": false,
     "read_only": false
    }
   },
   "outputs": [],
   "source": [
    "csv.list_dialects()"
   ]
  },
  {
   "cell_type": "markdown",
   "metadata": {
    "ExecuteTime": {
     "end_time": "2016-12-10T11:31:19.209840",
     "start_time": "2016-12-10T11:31:19.206841"
    }
   },
   "source": [
    "## Loading and saving matrices"
   ]
  },
  {
   "cell_type": "code",
   "execution_count": null,
   "metadata": {
    "ExecuteTime": {
     "end_time": "2016-12-10T11:03:05.308129",
     "start_time": "2016-12-10T11:03:04.878823"
    },
    "collapsed": false,
    "run_control": {
     "frozen": false,
     "read_only": false
    }
   },
   "outputs": [],
   "source": [
    "import numpy as np"
   ]
  },
  {
   "cell_type": "code",
   "execution_count": null,
   "metadata": {
    "ExecuteTime": {
     "end_time": "2016-12-10T11:03:33.684976",
     "start_time": "2016-12-10T11:03:33.677970"
    },
    "collapsed": false,
    "run_control": {
     "frozen": false,
     "read_only": false
    }
   },
   "outputs": [],
   "source": [
    "a = np.random.random((10,10))\n",
    "a"
   ]
  },
  {
   "cell_type": "markdown",
   "metadata": {},
   "source": [
    "__Save matrix__"
   ]
  },
  {
   "cell_type": "code",
   "execution_count": null,
   "metadata": {
    "ExecuteTime": {
     "end_time": "2016-12-10T11:08:33.794174",
     "start_time": "2016-12-10T11:08:33.789169"
    },
    "collapsed": false,
    "run_control": {
     "frozen": false,
     "read_only": false
    }
   },
   "outputs": [],
   "source": [
    "with open('sample_a.csv', 'w', newline='') as csvfile:\n",
    "    writer = csv.writer(csvfile)\n",
    "    writer.writerows(a)"
   ]
  },
  {
   "cell_type": "markdown",
   "metadata": {},
   "source": [
    "__Load matrix__"
   ]
  },
  {
   "cell_type": "code",
   "execution_count": null,
   "metadata": {
    "ExecuteTime": {
     "end_time": "2016-12-10T11:11:05.477000",
     "start_time": "2016-12-10T11:11:05.470996"
    },
    "collapsed": false,
    "run_control": {
     "frozen": false,
     "read_only": false
    }
   },
   "outputs": [],
   "source": [
    "with open('sample_a.csv', newline='') as csvfile:\n",
    "    reader = csv.reader(csvfile)\n",
    "    a_bis = []\n",
    "    for row in reader:\n",
    "        a_bis.append(row)\n",
    "    a_bis = np.array(a_bis, np.float)"
   ]
  },
  {
   "cell_type": "code",
   "execution_count": null,
   "metadata": {
    "ExecuteTime": {
     "end_time": "2016-12-10T11:25:01.511395",
     "start_time": "2016-12-10T11:25:01.503390"
    },
    "collapsed": false,
    "run_control": {
     "frozen": false,
     "read_only": false
    }
   },
   "outputs": [],
   "source": [
    "a_bis"
   ]
  },
  {
   "cell_type": "code",
   "execution_count": null,
   "metadata": {
    "ExecuteTime": {
     "end_time": "2016-12-10T11:12:44.626400",
     "start_time": "2016-12-10T11:12:44.621395"
    },
    "collapsed": false,
    "run_control": {
     "frozen": false,
     "read_only": false
    }
   },
   "outputs": [],
   "source": [
    "a == a_bis"
   ]
  },
  {
   "cell_type": "code",
   "execution_count": null,
   "metadata": {
    "ExecuteTime": {
     "end_time": "2016-12-10T11:11:44.716709",
     "start_time": "2016-12-10T11:11:44.709704"
    },
    "collapsed": false,
    "run_control": {
     "frozen": false,
     "read_only": false
    }
   },
   "outputs": [],
   "source": [
    "np.allclose(a, a_bis)"
   ]
  },
  {
   "cell_type": "markdown",
   "metadata": {
    "ExecuteTime": {
     "end_time": "2016-12-10T11:13:07.385236",
     "start_time": "2016-12-10T11:13:07.382247"
    }
   },
   "source": [
    "## CSV Exercises"
   ]
  },
  {
   "cell_type": "markdown",
   "metadata": {},
   "source": [
    "### Loading data, filtering and saving\n",
    "\n",
    "1. Load data from `sample2.csv`\n",
    "2. Save rows with `state==NJ` to file `exercise_1_NJ.csv`\n",
    "3. Save rows with `state==CO` to file `exercise_1_CO.csv`\n",
    "4. Save rows with state different than `NJ` and `CO` to file `exercise_1_rest.csv`"
   ]
  },
  {
   "cell_type": "markdown",
   "metadata": {},
   "source": [
    "### Loading and saving matrices\n",
    "1. Load matrices from files `csv_exercise_2_a.csv` and `csv_exercise_2_b.csv`.  \n",
    "2. Create matrix __c = a*b__ (matrix multiplication).  \n",
    "3. Save matrix __c__ to file `csv_exercise_2_c.csv`"
   ]
  },
  {
   "cell_type": "markdown",
   "metadata": {
    "ExecuteTime": {
     "end_time": "2016-12-10T11:28:37.017804",
     "start_time": "2016-12-10T11:28:37.014801"
    }
   },
   "source": [
    "# JSON\n",
    "\n",
    "http://json.org/  \n",
    "https://docs.python.org/3/library/json.html"
   ]
  },
  {
   "cell_type": "code",
   "execution_count": null,
   "metadata": {
    "ExecuteTime": {
     "end_time": "2016-12-10T11:37:40.259274",
     "start_time": "2016-12-10T11:37:40.256271"
    },
    "collapsed": false,
    "run_control": {
     "frozen": false,
     "read_only": false
    }
   },
   "outputs": [],
   "source": [
    "import json"
   ]
  },
  {
   "cell_type": "code",
   "execution_count": null,
   "metadata": {
    "ExecuteTime": {
     "end_time": "2016-12-10T11:43:10.037064",
     "start_time": "2016-12-10T11:43:10.032073"
    },
    "collapsed": false,
    "run_control": {
     "frozen": false,
     "read_only": false
    }
   },
   "outputs": [],
   "source": [
    "print(json.dumps([1,2,3,{'4': 5, '6': 7}], separators=(',', ':')))"
   ]
  },
  {
   "cell_type": "markdown",
   "metadata": {
    "ExecuteTime": {
     "end_time": "2016-12-10T11:45:43.274394",
     "start_time": "2016-12-10T11:45:43.271391"
    }
   },
   "source": [
    "__Pretty printing__"
   ]
  },
  {
   "cell_type": "code",
   "execution_count": null,
   "metadata": {
    "ExecuteTime": {
     "end_time": "2016-12-10T11:43:03.294599",
     "start_time": "2016-12-10T11:43:03.288608"
    },
    "collapsed": false,
    "run_control": {
     "frozen": false,
     "read_only": false
    }
   },
   "outputs": [],
   "source": [
    "print(json.dumps([1,2,3,{'4': 5, '6': 7}], separators=(',', ':'), indent=4))"
   ]
  },
  {
   "cell_type": "code",
   "execution_count": null,
   "metadata": {
    "ExecuteTime": {
     "end_time": "2016-12-10T11:42:48.372214",
     "start_time": "2016-12-10T11:42:48.368197"
    },
    "collapsed": false,
    "run_control": {
     "frozen": false,
     "read_only": false
    }
   },
   "outputs": [],
   "source": [
    "print(json.dumps({'4': 5, '6': 7}, sort_keys=True, indent=4))"
   ]
  },
  {
   "cell_type": "markdown",
   "metadata": {
    "ExecuteTime": {
     "end_time": "2016-12-10T11:46:02.234671",
     "start_time": "2016-12-10T11:46:02.231669"
    }
   },
   "source": [
    "## Loading from file"
   ]
  },
  {
   "cell_type": "code",
   "execution_count": null,
   "metadata": {
    "ExecuteTime": {
     "end_time": "2016-12-10T11:45:05.846490",
     "start_time": "2016-12-10T11:45:05.840488"
    },
    "collapsed": false,
    "run_control": {
     "frozen": false,
     "read_only": false
    }
   },
   "outputs": [],
   "source": [
    "with open('sample2.json') as f:\n",
    "    sample2 = json.load(f)\n",
    "\n",
    "sample2"
   ]
  },
  {
   "cell_type": "markdown",
   "metadata": {},
   "source": [
    "## Saving to file"
   ]
  },
  {
   "cell_type": "code",
   "execution_count": null,
   "metadata": {
    "ExecuteTime": {
     "end_time": "2016-12-10T11:48:40.141001",
     "start_time": "2016-12-10T11:48:40.137013"
    },
    "collapsed": false,
    "run_control": {
     "frozen": false,
     "read_only": false
    }
   },
   "outputs": [],
   "source": [
    "with open('sample2_bis.json', 'w') as f:\n",
    "    f.write(json.dumps(rows))"
   ]
  },
  {
   "cell_type": "code",
   "execution_count": null,
   "metadata": {
    "ExecuteTime": {
     "end_time": "2016-12-10T11:48:40.293109",
     "start_time": "2016-12-10T11:48:40.288105"
    },
    "collapsed": false,
    "run_control": {
     "frozen": false,
     "read_only": false
    }
   },
   "outputs": [],
   "source": [
    "with open('sample2_bis_pretty.json', 'w') as f:\n",
    "    f.write(json.dumps(rows, sort_keys=True, indent=4))"
   ]
  },
  {
   "cell_type": "markdown",
   "metadata": {},
   "source": [
    "## JSON Exercises"
   ]
  },
  {
   "cell_type": "markdown",
   "metadata": {
    "ExecuteTime": {
     "end_time": "2016-12-10T11:49:30.149772",
     "start_time": "2016-12-10T11:49:30.144768"
    }
   },
   "source": [
    "### Loading data, filtering and saving\n",
    "\n",
    "1. Load data from `sample2.json`\n",
    "2. Save rows with `state==NJ` to file `exercise_1_NJ.json`\n",
    "3. Save rows with `state==CO` to file `exercise_1_CO.json`\n",
    "4. Save rows with state different than `NJ` and `CO` to file `exercise_1_rest.json`"
   ]
  },
  {
   "cell_type": "markdown",
   "metadata": {
    "ExecuteTime": {
     "end_time": "2016-12-10T11:34:28.161902",
     "start_time": "2016-12-10T11:34:28.158885"
    }
   },
   "source": [
    "# Pickle\n",
    "\n",
    "\n",
    "The pickle module implements binary protocols for serializing and de-serializing a Python object structure.  \n",
    "“Pickling” is the process whereby a Python object hierarchy is converted into a byte stream, and “unpickling” is the inverse operation, whereby a byte stream (from a binary file or bytes-like object) is converted back into an object hierarchy.  \n",
    "Pickling (and unpickling) is alternatively known as “serialization”, “marshalling,” [1] or “flattening”; however, to avoid confusion, the terms used here are “pickling” and “unpickling”.\n",
    "\n",
    "https://docs.python.org/3/library/pickle.html"
   ]
  },
  {
   "cell_type": "code",
   "execution_count": null,
   "metadata": {
    "ExecuteTime": {
     "end_time": "2016-12-10T11:35:50.489606",
     "start_time": "2016-12-10T11:35:50.486604"
    },
    "collapsed": false,
    "run_control": {
     "frozen": false,
     "read_only": false
    }
   },
   "outputs": [],
   "source": [
    "import pickle"
   ]
  },
  {
   "cell_type": "markdown",
   "metadata": {
    "ExecuteTime": {
     "end_time": "2016-12-10T11:50:21.210372",
     "start_time": "2016-12-10T11:50:21.208370"
    }
   },
   "source": [
    "## Unpickle file\n",
    "\n",
    "`pickle.load(file, *, fix_imports=True, encoding='ASCII', errors='strict')`"
   ]
  },
  {
   "cell_type": "code",
   "execution_count": null,
   "metadata": {
    "ExecuteTime": {
     "end_time": "2016-12-10T11:53:05.620614",
     "start_time": "2016-12-10T11:53:05.617612"
    },
    "collapsed": false,
    "run_control": {
     "frozen": false,
     "read_only": false
    }
   },
   "outputs": [],
   "source": [
    "with open('sample2.pickle', 'rb') as f:\n",
    "    sample2_p = pickle.load(f)"
   ]
  },
  {
   "cell_type": "code",
   "execution_count": null,
   "metadata": {
    "ExecuteTime": {
     "end_time": "2016-12-10T11:53:16.845808",
     "start_time": "2016-12-10T11:53:16.840804"
    },
    "collapsed": false,
    "run_control": {
     "frozen": false,
     "read_only": false
    }
   },
   "outputs": [],
   "source": [
    "sample2_p"
   ]
  },
  {
   "cell_type": "code",
   "execution_count": null,
   "metadata": {
    "ExecuteTime": {
     "end_time": "2016-12-10T11:53:12.004169",
     "start_time": "2016-12-10T11:53:12.000153"
    },
    "collapsed": false,
    "run_control": {
     "frozen": false,
     "read_only": false
    }
   },
   "outputs": [],
   "source": [
    "sample2_p == sample2"
   ]
  },
  {
   "cell_type": "markdown",
   "metadata": {
    "ExecuteTime": {
     "end_time": "2016-12-10T11:50:28.834959",
     "start_time": "2016-12-10T11:50:28.831957"
    }
   },
   "source": [
    "## Pickle object\n",
    "\n",
    "`pickle.dump(obj, file, protocol=None, *, fix_imports=True)`"
   ]
  },
  {
   "cell_type": "code",
   "execution_count": null,
   "metadata": {
    "ExecuteTime": {
     "end_time": "2016-12-10T11:51:58.348687",
     "start_time": "2016-12-10T11:51:58.344671"
    },
    "collapsed": false,
    "run_control": {
     "frozen": false,
     "read_only": false
    }
   },
   "outputs": [],
   "source": [
    "with open('sample2_bis.pickle', 'wb') as f:\n",
    "    pickle.dump(sample2, f)"
   ]
  },
  {
   "cell_type": "markdown",
   "metadata": {
    "ExecuteTime": {
     "end_time": "2016-12-10T11:58:32.813987",
     "start_time": "2016-12-10T11:58:32.809983"
    }
   },
   "source": [
    "__NumPy objects__"
   ]
  },
  {
   "cell_type": "code",
   "execution_count": null,
   "metadata": {
    "ExecuteTime": {
     "end_time": "2016-12-10T11:58:22.088497",
     "start_time": "2016-12-10T11:58:22.081491"
    },
    "collapsed": false,
    "run_control": {
     "frozen": false,
     "read_only": false
    }
   },
   "outputs": [],
   "source": [
    "a = np.random.random((10,10))\n",
    "a"
   ]
  },
  {
   "cell_type": "code",
   "execution_count": null,
   "metadata": {
    "ExecuteTime": {
     "end_time": "2016-12-10T11:59:24.133917",
     "start_time": "2016-12-10T11:59:24.128915"
    },
    "collapsed": false,
    "run_control": {
     "frozen": false,
     "read_only": false
    }
   },
   "outputs": [],
   "source": [
    "with open('_numpy_a.pickle', 'wb') as f:\n",
    "    pickle.dump(a, f)"
   ]
  },
  {
   "cell_type": "code",
   "execution_count": null,
   "metadata": {
    "ExecuteTime": {
     "end_time": "2016-12-10T11:59:52.016884",
     "start_time": "2016-12-10T11:59:52.010863"
    },
    "collapsed": false,
    "run_control": {
     "frozen": false,
     "read_only": false
    }
   },
   "outputs": [],
   "source": [
    "with open('_numpy_a.pickle', 'rb') as f:\n",
    "    a_bis = pickle.load(f)"
   ]
  },
  {
   "cell_type": "code",
   "execution_count": null,
   "metadata": {
    "ExecuteTime": {
     "end_time": "2016-12-10T11:59:54.854082",
     "start_time": "2016-12-10T11:59:54.848062"
    },
    "collapsed": false,
    "run_control": {
     "frozen": false,
     "read_only": false
    }
   },
   "outputs": [],
   "source": [
    "a == a_bis"
   ]
  },
  {
   "cell_type": "code",
   "execution_count": null,
   "metadata": {
    "ExecuteTime": {
     "end_time": "2016-12-10T12:00:40.502901",
     "start_time": "2016-12-10T12:00:40.497882"
    },
    "collapsed": false,
    "run_control": {
     "frozen": false,
     "read_only": false
    }
   },
   "outputs": [],
   "source": [
    "with open('_numpy_a2.pickle', 'wb') as f:\n",
    "    a.dump(f)"
   ]
  },
  {
   "cell_type": "code",
   "execution_count": null,
   "metadata": {
    "ExecuteTime": {
     "end_time": "2016-12-10T12:00:59.551746",
     "start_time": "2016-12-10T12:00:59.545727"
    },
    "collapsed": false,
    "run_control": {
     "frozen": false,
     "read_only": false
    }
   },
   "outputs": [],
   "source": [
    "with open('_numpy_a2.pickle', 'rb') as f:\n",
    "    a_bis2 = np.load(f)"
   ]
  },
  {
   "cell_type": "code",
   "execution_count": null,
   "metadata": {
    "ExecuteTime": {
     "end_time": "2016-12-10T12:01:05.637677",
     "start_time": "2016-12-10T12:01:05.625666"
    },
    "collapsed": false,
    "run_control": {
     "frozen": false,
     "read_only": false
    }
   },
   "outputs": [],
   "source": [
    "a_bis2"
   ]
  }
 ],
 "metadata": {
  "anaconda-cloud": {},
  "hide_input": false,
  "kernelspec": {
   "display_name": "Python [default]",
   "language": "python",
   "name": "python3"
  },
  "language_info": {
   "codemirror_mode": {
    "name": "ipython",
    "version": 3
   },
   "file_extension": ".py",
   "mimetype": "text/x-python",
   "name": "python",
   "nbconvert_exporter": "python",
   "pygments_lexer": "ipython3",
   "version": "3.5.2"
  },
  "toc": {
   "nav_menu": {
    "height": "371px",
    "width": "252px"
   },
   "navigate_menu": true,
   "number_sections": true,
   "sideBar": true,
   "threshold": 4,
   "toc_cell": false,
   "toc_section_display": "block",
   "toc_window_display": false
  }
 },
 "nbformat": 4,
 "nbformat_minor": 1
}
