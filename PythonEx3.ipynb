{
 "cells": [
  {
   "cell_type": "code",
   "execution_count": 2,
   "metadata": {
    "collapsed": false
   },
   "outputs": [
    {
     "name": "stdout",
     "output_type": "stream",
     "text": [
      "Konstruktor rodzica - jam jest Rodzic!\n",
      "Tu z rodzica: tescik.\n",
      "Konstruktor dzieciora - jam dziecior z rodzica!\n",
      "A tu dziecior.\n"
     ]
    }
   ],
   "source": [
    "class Rodzic(object):\n",
    "    \n",
    "    def __init__(self):\n",
    "        print(\"Konstruktor rodzica - jam jest Rodzic!\")\n",
    "\n",
    "    def pisz(self, wartosc):\n",
    "        self.zmienna = wartosc\n",
    "        print(\"Tu z rodzica: {}.\".format(self.zmienna))\n",
    "\n",
    "class Dziecior(Rodzic):\n",
    "    \n",
    "    def __init__(self):\n",
    "        print(\"Konstruktor dzieciora - jam dziecior z rodzica!\")\n",
    "        \n",
    "    def pisz(self):\n",
    "        print(\"A tu dziecior.\")\n",
    "\n",
    "\n",
    "a = Rodzic()\n",
    "a.pisz(\"tescik\")\n",
    "\n",
    "b = Dziecior()\n",
    "b.pisz()"
   ]
  },
  {
   "cell_type": "markdown",
   "metadata": {},
   "source": [
    "### Define a class, which have take \"name\" parameter. Add two methods, one will change name value for given. The other one will print out name"
   ]
  },
  {
   "cell_type": "code",
   "execution_count": 96,
   "metadata": {
    "collapsed": false,
    "scrolled": true
   },
   "outputs": [
    {
     "name": "stdout",
     "output_type": "stream",
     "text": [
      "Ola_new\n",
      "name is - Ola\n"
     ]
    }
   ],
   "source": [
    "class Task_1:\n",
    "    \n",
    "    def __init__(self, name):\n",
    "        self.name = name\n",
    "        \n",
    "    def change_value(self):\n",
    "        new_val = self.name + '_new'\n",
    "        print(new_val)\n",
    "        \n",
    "    def print_name(self):\n",
    "        print('name is - {}'.format(self.name))\n",
    "        \n",
    "c = Task_1('Ola')\n",
    "c.change_value()\n",
    "c.print_name()"
   ]
  },
  {
   "cell_type": "markdown",
   "metadata": {},
   "source": [
    "### Define a class which takes name, surname, age and height as params. Add a function, which will display info about object, including given params. The goal here is not to make a function printing out. See what happens when you make print(my_object) -> Where my_object = MyRandomClass"
   ]
  },
  {
   "cell_type": "code",
   "execution_count": 126,
   "metadata": {
    "collapsed": false
   },
   "outputs": [
    {
     "name": "stdout",
     "output_type": "stream",
     "text": [
      "Data: name - Rob, surname - Roy, age - 35, height - 180\n"
     ]
    }
   ],
   "source": [
    "class Person(object):\n",
    "    \n",
    "    def display_info(self, name, surname, age, height):\n",
    "        self.name = name\n",
    "        self.surname = surname\n",
    "        self.age = age\n",
    "        self.height = height\n",
    "        print('Data: name - {}, surname - {}, age - {}, height - {}'.format(self.name, self.surname, self.age, self.height)) \n",
    "        \n",
    "Rob = Person()\n",
    "Rob.display_info('Rob', 'Roy', 35, 180)"
   ]
  },
  {
   "cell_type": "code",
   "execution_count": 129,
   "metadata": {
    "collapsed": false
   },
   "outputs": [
    {
     "name": "stdout",
     "output_type": "stream",
     "text": [
      "Data: name - Rob, surname - Roy, age - 35, height - 180\n"
     ]
    }
   ],
   "source": [
    "class Person:\n",
    "    \n",
    "    def __init__(self, name, surname, age, height):\n",
    "        self.name = name\n",
    "        self.surname = surname\n",
    "        self.age = age\n",
    "        self.height = height\n",
    "        \n",
    "    def display_info(self):\n",
    "        print('Data: name - {}, surname - {}, age - {}, height - {}'.format(self.name, self.surname, self.age, self.height)) \n",
    "        \n",
    "Rob = Person('Rob', 'Roy', 35, 180)\n",
    "Rob.display_info()"
   ]
  },
  {
   "cell_type": "markdown",
   "metadata": {},
   "source": [
    "### Define a class named Poland which has a static method called print_nationality."
   ]
  },
  {
   "cell_type": "code",
   "execution_count": 120,
   "metadata": {
    "collapsed": false
   },
   "outputs": [
    {
     "name": "stdout",
     "output_type": "stream",
     "text": [
      "Nationality:  pl\n"
     ]
    }
   ],
   "source": [
    "class Poland:\n",
    "    \n",
    "    NATIONALITY = 'pl'\n",
    "        \n",
    "    @staticmethod\n",
    "    def print_nationality():\n",
    "        print(\"Nationality: \", Poland.NATIONALITY)\n",
    "        \n",
    "Poland.print_nationality()"
   ]
  },
  {
   "cell_type": "markdown",
   "metadata": {},
   "source": [
    "### Write two classes, Country and City, City has to inherit from Country. Add a function to City class, which will print out both country name and city name."
   ]
  },
  {
   "cell_type": "code",
   "execution_count": 130,
   "metadata": {
    "collapsed": false
   },
   "outputs": [
    {
     "name": "stdout",
     "output_type": "stream",
     "text": [
      "Country: Poland \n",
      " City: Bialystok\n"
     ]
    }
   ],
   "source": [
    "class Country(object):     \n",
    "    def __init__(self):\n",
    "        self.country = 'Poland'\n",
    "\n",
    "class City(Country):\n",
    "    def inherit(self, CityName):\n",
    "        self.city = CityName\n",
    "        print('Country: {} \\n City: {}'.format(self.country,self.city))\n",
    "\n",
    "m = City()\n",
    "m.inherit('Bialystok')"
   ]
  },
  {
   "cell_type": "markdown",
   "metadata": {},
   "source": [
    "### Define a class named Circle which can be constructed by a radius. The Circle class has a method which can compute the area."
   ]
  },
  {
   "cell_type": "code",
   "execution_count": 90,
   "metadata": {
    "collapsed": false
   },
   "outputs": [
    {
     "name": "stdout",
     "output_type": "stream",
     "text": [
      "Area:  12.566\n"
     ]
    }
   ],
   "source": [
    "class Circle:\n",
    "    __pi = 3.1415\n",
    "    def __init__(self, radius):\n",
    "        self.radius = radius\n",
    "        \n",
    "    def area(self):\n",
    "        print('Area: ',(Circle.__pi*self.radius**2))\n",
    "\n",
    "a = Circle(2)\n",
    "a.area()"
   ]
  },
  {
   "cell_type": "markdown",
   "metadata": {},
   "source": [
    "### Define a class named Rectangle which can be constructed by a length and width. The Rectangle class has a method which can compute the area.\n"
   ]
  },
  {
   "cell_type": "code",
   "execution_count": 103,
   "metadata": {
    "collapsed": false
   },
   "outputs": [
    {
     "data": {
      "text/plain": [
       "40"
      ]
     },
     "execution_count": 103,
     "metadata": {},
     "output_type": "execute_result"
    }
   ],
   "source": [
    "class Rectangle:\n",
    "    \n",
    "    def compute(self, length, width):\n",
    "        return length * width\n",
    "\n",
    "a = Rectangle()\n",
    "a.compute(10, 4)"
   ]
  },
  {
   "cell_type": "markdown",
   "metadata": {},
   "source": [
    "### Define a class Person and its two child classes: Male and Female. All classes have a method \"getGender\" which can print \"Male\" for Male class and \"Female\" for Female class."
   ]
  },
  {
   "cell_type": "code",
   "execution_count": 119,
   "metadata": {
    "collapsed": false
   },
   "outputs": [
    {
     "name": "stdout",
     "output_type": "stream",
     "text": [
      "Male\n",
      "Female\n"
     ]
    }
   ],
   "source": [
    "class Person(object):    \n",
    "    def getGender(self):\n",
    "        return 'Person'\n",
    "\n",
    "class Male(Person):    \n",
    "    def getGender(self):\n",
    "        return 'Male'\n",
    "\n",
    "class Female(Person):\n",
    "    def getGender(self):\n",
    "        return 'Female'\n",
    "    \n",
    "aMale = Male()\n",
    "aFemale = Female()\n",
    "print(aMale.getGender())\n",
    "print(aFemale.getGender())"
   ]
  },
  {
   "cell_type": "markdown",
   "metadata": {},
   "source": [
    "### Define a class called Lunch. Pass one argument (string). Add a method called get_menu_price. It has to return 15.00 for \"menu_1\", 30.00 for \"menu_2\" and \"error in menu\" for all other options. DO NOT USE IF STATEMENTS."
   ]
  },
  {
   "cell_type": "code",
   "execution_count": 152,
   "metadata": {
    "collapsed": false
   },
   "outputs": [
    {
     "name": "stdout",
     "output_type": "stream",
     "text": [
      "15.0\n",
      "30.0\n",
      "error in menu\n"
     ]
    }
   ],
   "source": [
    "class Lunch:\n",
    "    \n",
    "    def get_menu_price(self, menu):\n",
    "        prices = {\n",
    "            \"menu_1\": 15.00, \n",
    "            \"menu_2\":30.00\n",
    "        }\n",
    "        return prices.setdefault(menu, \"error in menu\")\n",
    "\n",
    "a = Lunch()\n",
    "print(a.get_menu_price(\"menu_1\"))\n",
    "print(a.get_menu_price(\"menu_2\"))\n",
    "print(a.get_menu_price(\"menumenu\"))    "
   ]
  },
  {
   "cell_type": "code",
   "execution_count": 161,
   "metadata": {
    "collapsed": false
   },
   "outputs": [
    {
     "name": "stdout",
     "output_type": "stream",
     "text": [
      "15.0\n",
      "30.0\n",
      "error in menu\n"
     ]
    }
   ],
   "source": [
    "class Lunch:\n",
    "    \n",
    "    def __init__(self, menu):\n",
    "        self.menu = menu\n",
    "        self.prices = {\n",
    "            \"menu_1\": 15.00, \n",
    "            \"menu_2\":30.00\n",
    "        }\n",
    "\n",
    "    def get_menu_price(self):\n",
    "        return self.prices.setdefault(self.menu, \"error in menu\")\n",
    "\n",
    "a = Lunch('menu_1')\n",
    "print(a.get_menu_price())\n",
    "b = Lunch('menu_2')\n",
    "print(b.get_menu_price())\n",
    "c = Lunch('blab')\n",
    "print(c.get_menu_price())"
   ]
  },
  {
   "cell_type": "code",
   "execution_count": 163,
   "metadata": {
    "collapsed": false
   },
   "outputs": [
    {
     "name": "stdout",
     "output_type": "stream",
     "text": [
      "15.0\n",
      "30.0\n",
      "error in menu\n"
     ]
    }
   ],
   "source": [
    "class Lunch:\n",
    "\n",
    "    def get_menu_price(self, menu):\n",
    "        prices = {\n",
    "            \"menu_1\": 15.00, \n",
    "            \"menu_2\":30.00\n",
    "        }\n",
    "\n",
    "        try:\n",
    "            return prices[menu]\n",
    "        except KeyError:\n",
    "            return \"error in menu\"\n",
    "            \n",
    "            \n",
    "a = Lunch()\n",
    "print(a.get_menu_price(\"menu_1\"))\n",
    "print(a.get_menu_price(\"menu_2\"))\n",
    "print(a.get_menu_price(\"bla\"))"
   ]
  }
 ],
 "metadata": {
  "anaconda-cloud": {},
  "kernelspec": {
   "display_name": "Python [conda root]",
   "language": "python",
   "name": "conda-root-py"
  },
  "language_info": {
   "codemirror_mode": {
    "name": "ipython",
    "version": 3
   },
   "file_extension": ".py",
   "mimetype": "text/x-python",
   "name": "python",
   "nbconvert_exporter": "python",
   "pygments_lexer": "ipython3",
   "version": "3.5.2"
  }
 },
 "nbformat": 4,
 "nbformat_minor": 1
}
